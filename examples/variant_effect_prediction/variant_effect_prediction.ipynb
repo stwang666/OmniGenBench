{
 "cells": [
  {
   "cell_type": "markdown",
   "id": "9ed15a3631734b63",
   "metadata": {},
   "source": [
    "# Variant Effect Prediction with OmniGenBench\n",
    "\n",
    "This notebook demonstrates how to use various genomic foundation models for variant effect prediction. It processes genomic variants from a BED file, uses a reference genome, and predicts the functional effects of variants using deep learning models.\n",
    "\n",
    "**Dataset Description:**\n",
    "The dataset for this task consists of a BED file (`variant_effects_expression.bed`) containing human genetic variants associated with diseases, and the human reference genome (hg38). The BED file specifies the chromosome, start/end positions, reference allele, and alternative allele for each variant. The goal is to predict the functional impact of these variants by comparing the model's embeddings of the reference sequence versus the altered sequence. The data is sourced from the [`variant_effect_prediction`](https://huggingface.co/datasets/yangheng/variant_effect_prediction) dataset on Hugging Face.\n",
    "\n",
    "**Estimated Runtime:**\n",
    "This notebook performs inference only (no training). The runtime depends on the model size and the number of variants processed. On a single NVIDIA RTX 4090 GPU, running the analysis on the full dataset (approximately 18k variant samples) takes about **15-25 minutes**. If you uncomment the line to run on a small sample (100 variants), the process should complete in under **2 minutes**.\n"
   ]
  },
  {
   "cell_type": "markdown",
   "id": "205c049c46c67ebc",
   "metadata": {},
   "source": [
    "## Notebook Structure\n",
    "\n",
    "This notebook is organized into concise sections. Most core logic is moved to [`examples/variant_effect_prediction/utils.py`](https://github.com/COLA-Laboratory/OmniGenBench/blob/master/examples/variant_effect_prediction/utils.py) and imported here:\n",
    "\n",
    "1. **Setup & Installation**: Install dependencies if needed.\n",
    "2. **Import Libraries**: Load Python libraries.\n",
    "3. **Configuration & Data Download**: Set paths/params and call `utils.download_vep_dataset` and `utils.download_ncbi_reference_genome`.\n",
    "4. **Model Selection**: Pick a model to evaluate.\n",
    "5. **Main Analysis Pipeline**: Use `utils.run_vep_analysis` to run the VEP pipeline.\n",
    "6. **Execute & Save Results**: Run the analysis and save results to a dynamically named CSV file.\n",
    "7. **Results Overview**: Quick stats and preview.\n",
    "8. **Visualization**: Plot score distributions.\n",
    "\n",
    "This keeps the notebook minimal while utilities handle the heavy lifting.\n"
   ]
  },
  {
   "cell_type": "markdown",
   "id": "3e026b4088eadebc",
   "metadata": {},
   "source": [
    "## 1. Setup & Installation\n",
    "\n",
    "This cell contains the necessary packages for running the notebook. If you have already installed them, you can skip this step. Otherwise, uncomment and run the cell."
   ]
  },
  {
   "cell_type": "code",
   "execution_count": null,
   "id": "aeda9bbfb939574f",
   "metadata": {},
   "outputs": [],
   "source": [
    "# !pip install torch transformers pandas autocuda multimolecule biopython scipy scikit-learn tqdm dill findfile requests\n"
   ]
  },
  {
   "cell_type": "markdown",
   "id": "e64943f9f02cfa30",
   "metadata": {},
   "source": [
    "## 2. Import Libraries\n",
    "\n",
    "Import all the necessary libraries for genomic data processing, model inference, and analysis."
   ]
  },
  {
   "cell_type": "code",
   "id": "d41982f35cb41cfd",
   "metadata": {
    "ExecuteTime": {
     "end_time": "2025-09-11T15:40:44.587944Z",
     "start_time": "2025-09-11T15:40:33.519849Z"
    }
   },
   "source": [
    "import warnings\n",
    "import findfile, autocuda\n",
    "import importlib\n",
    "utils_spec = importlib.util.spec_from_file_location(\"utils\", \"utils.py\")\n",
    "utils = importlib.util.module_from_spec(utils_spec)\n",
    "utils_spec.loader.exec_module(utils)\n",
    "\n",
    "warnings.filterwarnings('ignore')\n",
    "print(\"Libraries imported successfully!\")\n"
   ],
   "outputs": [
    {
     "name": "stdout",
     "output_type": "stream",
     "text": [
      "Libraries imported successfully!\n"
     ]
    }
   ],
   "execution_count": 1
  },
  {
   "cell_type": "markdown",
   "id": "4f88a2eaa3aebc72",
   "metadata": {},
   "source": [
    "## 3. Configuration & Data Download\n",
    "\n",
    "Set up the analysis parameters, file paths, and model selection here. You can easily change the `model_name` to test different genomic foundation models."
   ]
  },
  {
   "cell_type": "code",
   "id": "d42bdf1da4ceb579",
   "metadata": {
    "ExecuteTime": {
     "end_time": "2025-09-11T16:27:52.934321Z",
     "start_time": "2025-09-11T16:14:34.545488Z"
    }
   },
   "source": [
    "# Using utils for reusable logic\n",
    "from utils import download_ncbi_reference_genome, download_vep_dataset\n",
    "print(\"Core classes and functions imported from utils.\")\n",
    "\n",
    "local_dir = \"vep_prediction_dataset\"\n",
    "# download_vep_dataset(local_dir) # Uncomment to download the full dataset\n",
    "download_ncbi_reference_genome()\n",
    "\n",
    "# --- Main Configuration ---\n",
    "BED_FILE = findfile.find_cwd_file(\"variant_effects_expression.bed\")\n",
    "FASTA_FILE = findfile.find_cwd_file(\"hg38.fa\")\n"
   ],
   "outputs": [
    {
     "name": "stdout",
     "output_type": "stream",
     "text": [
      "Core classes and functions imported from utils.\n",
      "Downloading reference genome from http://hgdownload.soe.ucsc.edu/goldenPath/hg38/bigZips/hg38.fa.gz...\n"
     ]
    },
    {
     "data": {
      "text/plain": [
       "hg38.fa.gz:   0%|          | 0.00/984M [00:00<?, ?B/s]"
      ],
      "application/vnd.jupyter.widget-view+json": {
       "version_major": 2,
       "version_minor": 0,
       "model_id": "ade1092e5cf54b82bdeb12a4c9153309"
      }
     },
     "metadata": {},
     "output_type": "display_data",
     "jetTransient": {
      "display_id": null
     }
    },
    {
     "name": "stdout",
     "output_type": "stream",
     "text": [
      "Extracting hg38.fa.gz...\n",
      "Reference genome ready at hg38.fa\n"
     ]
    }
   ],
   "execution_count": 4
  },
  {
   "cell_type": "markdown",
   "id": "1ea53cea4e1ea629",
   "metadata": {},
   "source": [
    "## 4. Model Selection\n",
    "\n",
    "Choose a model to evaluate. All core processing (data loading, embeddings, scoring) is handled in `utils.py`."
   ]
  },
  {
   "cell_type": "code",
   "id": "35c52a5ceb72439b",
   "metadata": {
    "ExecuteTime": {
     "end_time": "2025-09-11T16:49:18.690931Z",
     "start_time": "2025-09-11T16:49:18.686523Z"
    }
   },
   "source": [
    "# --- Available Models for Testing ---\n",
    "AVAILABLE_MODELS = [\n",
    "    'yangheng/OmniGenome-52M',\n",
    "    'yangheng/OmniGenome-186M',\n",
    "    'yangheng/OmniGenome-v1.5',\n",
    "]\n",
    "MODEL_NAME = AVAILABLE_MODELS[0]  # Model to use for predictions\n",
    "print(f\"Selected model: {MODEL_NAME}\")\n"
   ],
   "outputs": [
    {
     "name": "stdout",
     "output_type": "stream",
     "text": [
      "Selected model: yangheng/OmniGenome-52M\n"
     ]
    }
   ],
   "execution_count": 5
  },
  {
   "cell_type": "markdown",
   "id": "bcfe9d1c8928fa29",
   "metadata": {},
   "source": [
    "## 5. Main Analysis Pipeline\n",
    "\n",
    "Run the VEP pipeline using `utils.run_vep_analysis` for a concise workflow."
   ]
  },
  {
   "cell_type": "code",
   "id": "ef55a7d90bdf328c",
   "metadata": {
    "ExecuteTime": {
     "end_time": "2025-09-11T16:49:58.577272Z",
     "start_time": "2025-09-11T16:49:20.205789Z"
    }
   },
   "source": [
    "# Import main pipeline from utils for a concise demo\n",
    "from utils import run_vep_analysis\n",
    "\n",
    "print(\"Main analysis pipeline imported from utils.\")\n",
    "\n",
    "# Setup device\n",
    "compute_device = autocuda.auto_cuda()\n",
    "\n",
    "print(f\"Starting analysis on device: {compute_device}\")\n",
    "print(\"=\" * 50)\n",
    "\n",
    "# Run the analysis\n",
    "results_df = run_vep_analysis(\n",
    "    model_name=MODEL_NAME,\n",
    "    bed_file=BED_FILE,\n",
    "    fasta_file=FASTA_FILE,\n",
    "    context_size=200,  # Context size (in base pairs) to include on each side of the variant\n",
    "    batch_size=16,  # Batch size for model inference\n",
    "    max_examples=1000,  # Set to None to run on the full dataset\n",
    "    device=compute_device\n",
    ")\n",
    "\n",
    "print(\"=\" * 50)\n",
    "print(\"Analysis completed!\")\n",
    "\n",
    "# Save results to CSV\n",
    "output_filename = f\"{MODEL_NAME.split('/')[-1]}_vep_predictions.csv\"\n",
    "results_df.to_csv(output_filename, index=False)\n",
    "print(f\"Results saved to: {output_filename}\")\n"
   ],
   "outputs": [
    {
     "name": "stdout",
     "output_type": "stream",
     "text": [
      "Main analysis pipeline imported from utils.\n",
      "Starting analysis on device: cuda:0\n",
      "==================================================\n",
      "--- Step 1: Initializing ---\n",
      "--- Step 2: Loading Annotations ---\n",
      "Loading reference genome from hg38.fa...\n",
      "Loaded 455 chromosomes.\n",
      "Processing 105263 variants.\n",
      "--- Step 3: Loading Model: yangheng/OmniGenome-52M ---\n"
     ]
    },
    {
     "name": "stderr",
     "output_type": "stream",
     "text": [
      "W0911 17:49:47.098000 32884 site-packages\\torch\\distributed\\elastic\\multiprocessing\\redirects.py:29] NOTE: Redirects are currently not supported in Windows or MacOs.\n"
     ]
    },
    {
     "name": "stdout",
     "output_type": "stream",
     "text": [
      "\n",
      "\n",
      "   **  +----------- **           ___                     _\n",
      "  @@                 @@         / _ \\  _ __ ___   _ __  (_)\n",
      " @@* #============== *@@       | | | || '_ ` _ \\ | '_ \\ | |\n",
      " @@*                 *@@       | |_| || | | | | || | | || |\n",
      " *@@  +------------ *@@         \\___/ |_| |_| |_||_| |_||_|\n",
      "  *@*               @@*\n",
      "   *@@  #========= @@*\n",
      "    *@@*         *@@*\n",
      "      *@@  +---@@@*              ____\n",
      "        *@@*   **               / ___|  ___  _ __\n",
      "          **@**                | |  _  / _ \\| '_ \\\n",
      "        *@@* *@@*              | |_| ||  __/| | | |\n",
      "      *@@ ---+  @@*             \\____| \\___||_| |_|\n",
      "    *@@*         *@@*\n",
      "   *@@ =========#  @@*\n",
      "  *@@               @@*\n",
      " *@@ -------------+  @@*        ____                      _\n",
      " @@                   @@       | __ )   ___  _ __    ___ | |__\n",
      " @@ ===============#  @@       |  _ \\  / _ \\| '_ \\  / __|| '_ \\\n",
      "  @@                 @@        | |_) ||  __/| | | || (__ | | | |\n",
      "   ** -----------+  **         |____/  \\___||_| |_| \\___||_| |_|\n",
      "\n"
     ]
    },
    {
     "name": "stderr",
     "output_type": "stream",
     "text": [
      "Some weights of OmniGenomeModel were not initialized from the model checkpoint at yangheng/OmniGenome-52M and are newly initialized: ['pooler.dense.bias', 'pooler.dense.weight']\n",
      "You should probably TRAIN this model on a down-stream task to be able to use it for predictions and inference.\n"
     ]
    },
    {
     "name": "stdout",
     "output_type": "stream",
     "text": [
      "Model loaded on cuda:0 with 52453345 parameters.\n",
      "--- Step 4: Generating Sequences ---\n"
     ]
    },
    {
     "data": {
      "text/plain": [
       "Generating Sequences:   0%|          | 0/105263 [00:00<?, ?it/s]"
      ],
      "application/vnd.jupyter.widget-view+json": {
       "version_major": 2,
       "version_minor": 0,
       "model_id": "90d7dd0ffc51403aadf585b3ab6909e9"
      }
     },
     "metadata": {},
     "output_type": "display_data",
     "jetTransient": {
      "display_id": null
     }
    },
    {
     "name": "stdout",
     "output_type": "stream",
     "text": [
      "--- Step 5: Computing Embeddings ---\n"
     ]
    },
    {
     "data": {
      "text/plain": [
       "OmniGenome:   0%|          | 0/63 [00:00<?, ?it/s]"
      ],
      "application/vnd.jupyter.widget-view+json": {
       "version_major": 2,
       "version_minor": 0,
       "model_id": "ce964e6cb29d49a6971d1f08d711778f"
      }
     },
     "metadata": {},
     "output_type": "display_data",
     "jetTransient": {
      "display_id": null
     }
    },
    {
     "data": {
      "text/plain": [
       "OmniGenome:   0%|          | 0/63 [00:00<?, ?it/s]"
      ],
      "application/vnd.jupyter.widget-view+json": {
       "version_major": 2,
       "version_minor": 0,
       "model_id": "56688d4df0024c228f8446e03e412665"
      }
     },
     "metadata": {},
     "output_type": "display_data",
     "jetTransient": {
      "display_id": null
     }
    },
    {
     "name": "stdout",
     "output_type": "stream",
     "text": [
      "--- Step 6: Calculating Scores ---\n"
     ]
    },
    {
     "name": "stderr",
     "output_type": "stream",
     "text": [
      "C:\\Users\\hengu\\miniconda3\\envs\\py312\\Lib\\site-packages\\sklearn\\metrics\\_ranking.py:424: UndefinedMetricWarning: Only one class is present in y_true. ROC AUC score is not defined in that case.\n",
      "  warnings.warn(\n"
     ]
    },
    {
     "name": "stdout",
     "output_type": "stream",
     "text": [
      "Overall AUC based on 'mut_dist': nan\n",
      "==================================================\n",
      "Analysis completed!\n",
      "Results saved to: OmniGenome-52M_vep_predictions.csv\n"
     ]
    }
   ],
   "execution_count": 6
  },
  {
   "cell_type": "markdown",
   "id": "597f4928236089d4",
   "metadata": {},
   "source": [
    "## 6. Execute & Save Results\n",
    "\n",
    "Run the pipeline with the selected configuration and save results to a dynamically named CSV file. The filename is generated based on the selected model to avoid overwriting results from different runs.\n"
   ]
  },
  {
   "cell_type": "markdown",
   "id": "1c6e5a5de6126236",
   "metadata": {},
   "source": [
    "## 7. Results Overview\n",
    "\n",
    "Preview the results and display basic statistics for the computed distances. This provides insights into the model's sensitivity to the variants."
   ]
  },
  {
   "cell_type": "code",
   "execution_count": null,
   "id": "33d064c07cd9709d",
   "metadata": {},
   "outputs": [],
   "source": [
    "print(\"Results Summary:\")\n",
    "print(results_df[['chromosome', 'start', 'end', 'ref', 'alt', 'cls_dist', 'mut_dist']].describe())\n",
    "\n",
    "print(\"\\nFirst 5 results:\")\n",
    "display(results_df[['chromosome', 'start', 'end', 'ref', 'alt', 'cls_dist', 'mut_dist']].head())\n"
   ]
  },
  {
   "cell_type": "markdown",
   "id": "1ba6e83990c0313d",
   "metadata": {},
   "source": [
    "## 8. Visualization\n",
    "\n",
    "Visualize the distributions of `cls_dist` and `mut_dist` to understand the model's behavior and sensitivity to genomic variants. These plots help identify patterns in the embeddings generated by the model."
   ]
  },
  {
   "cell_type": "code",
   "execution_count": null,
   "id": "77ede6861518f1e5",
   "metadata": {},
   "outputs": [],
   "source": [
    "import matplotlib.pyplot as plt\n",
    "import seaborn as sns\n",
    "\n",
    "plt.style.use('seaborn-v0_8-whitegrid')\n",
    "fig, axes = plt.subplots(1, 2, figsize=(14, 5))\n",
    "\n",
    "sns.histplot(results_df['cls_dist'].dropna(), bins=50, kde=True, ax=axes[0], color='skyblue')\n",
    "axes[0].set_title('Distribution of CLS Distances')\n",
    "axes[0].set_xlabel('Cosine Distance (CLS Embedding)')\n",
    "axes[0].set_ylabel('Frequency')\n",
    "\n",
    "sns.histplot(results_df['mut_dist'].dropna(), bins=50, kde=True, ax=axes[1], color='salmon')\n",
    "axes[1].set_title('Distribution of Mutation Position Distances')\n",
    "axes[1].set_xlabel('Cosine Distance (Mutation Embedding)')\n",
    "axes[1].set_ylabel('Frequency')\n",
    "\n",
    "plt.tight_layout()\n",
    "plt.show()\n"
   ]
  },
  {
   "cell_type": "markdown",
   "id": "6bff0d0a156cf806",
   "metadata": {},
   "source": [
    "## References\n",
    "[BEND: Benchmarking DNA Language Models on biologically meaningful tasks](https://arxiv.org/abs/2311.12570)\n"
   ]
  }
 ],
 "metadata": {
  "kernelspec": {
   "display_name": "Python 3 (ipykernel)",
   "language": "python",
   "name": "python3"
  }
 },
 "nbformat": 4,
 "nbformat_minor": 5
}
