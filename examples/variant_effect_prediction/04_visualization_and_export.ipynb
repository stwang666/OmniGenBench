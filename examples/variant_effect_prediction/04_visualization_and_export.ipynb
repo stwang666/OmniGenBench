{
 "cells": [
  {
   "cell_type": "raw",
   "id": "e8afc239973dcf07",
   "metadata": {
    "vscode": {
     "languageId": "raw"
    }
   },
   "source": [
    "# 📊 Visualization and Export\n",
    "\n",
    "This tutorial demonstrates result visualization and export for variant effect prediction.\n",
    "\n",
    "> 📚 **Note**: Clean visualization following TE tutorial design philosophy.\n",
    "\n"
   ]
  },
  {
   "cell_type": "markdown",
   "id": "fadf6840",
   "metadata": {},
   "source": [
    "## 1. Setup\n"
   ]
  },
  {
   "cell_type": "code",
   "execution_count": null,
   "id": "96d2304c",
   "metadata": {},
   "outputs": [],
   "source": [
    "import numpy as np\n",
    "import pandas as pd\n",
    "import matplotlib.pyplot as plt\n",
    "import seaborn as sns\n",
    "from dataclasses import dataclass\n",
    "from pathlib import Path\n",
    "\n",
    "sns.set_style('whitegrid')\n",
    "plt.rcParams['figure.figsize'] = (10, 6)\n"
   ]
  },
  {
   "cell_type": "markdown",
   "id": "94512d61",
   "metadata": {},
   "source": [
    "## 2. Configuration\n"
   ]
  },
  {
   "cell_type": "code",
   "execution_count": null,
   "id": "d714d627",
   "metadata": {},
   "outputs": [],
   "source": [
    "# Configuration parameters\n",
    "output_dir = \"vep_results\"\n",
    "figure_format = \"png\"\n",
    "dpi = 300\n",
    "\n",
    "Path(output_dir).mkdir(exist_ok=True)\n"
   ]
  },
  {
   "cell_type": "markdown",
   "id": "34507a56",
   "metadata": {},
   "source": [
    "## 3. Load Results\n",
    "\n",
    "Load effect scores from previous analysis:\n"
   ]
  },
  {
   "cell_type": "code",
   "execution_count": null,
   "id": "a03dc78a",
   "metadata": {},
   "outputs": [],
   "source": [
    "# Example: Load or generate sample results\n",
    "# In practice, load from previous tutorial output\n",
    "np.random.seed(42)\n",
    "effect_scores = np.random.beta(2, 5, 1000)  # Sample data\n",
    "\n",
    "results_df = pd.DataFrame({\n",
    "    'variant_id': range(len(effect_scores)),\n",
    "    'effect_score': effect_scores,\n",
    "    'classification': ['Functional' if s > 0.3 else 'Neutral' for s in effect_scores]\n",
    "})\n"
   ]
  },
  {
   "cell_type": "markdown",
   "id": "ebeaa15a",
   "metadata": {},
   "source": [
    "## 4. Visualizations\n"
   ]
  },
  {
   "cell_type": "code",
   "execution_count": null,
   "id": "ec3fdf25",
   "metadata": {},
   "outputs": [],
   "source": [
    "# Distribution of effect scores\n",
    "plt.figure(figsize=(10, 6))\n",
    "plt.hist(effect_scores, bins=50, alpha=0.7, edgecolor='black')\n",
    "plt.axvline(0.3, color='red', linestyle='--', label='Threshold')\n",
    "plt.xlabel('Effect Score')\n",
    "plt.ylabel('Frequency')\n",
    "plt.title('Distribution of Variant Effect Scores')\n",
    "plt.legend()\n",
    "plt.savefig(f\"{output_dir}/effect_score_distribution.{figure_format}\", \n",
    "            dpi=dpi, bbox_inches='tight')\n",
    "plt.show()\n"
   ]
  },
  {
   "cell_type": "code",
   "execution_count": null,
   "id": "2639a79d",
   "metadata": {},
   "outputs": [],
   "source": [
    "# Classification summary\n",
    "plt.figure(figsize=(8, 6))\n",
    "results_df['classification'].value_counts().plot(kind='bar')\n",
    "plt.xlabel('Classification')\n",
    "plt.ylabel('Count')\n",
    "plt.title('Variant Classification Summary')\n",
    "plt.xticks(rotation=45)\n",
    "plt.savefig(f\"{output_dir}/classification_summary.{figure_format}\", \n",
    "            dpi=dpi, bbox_inches='tight')\n",
    "plt.show()\n"
   ]
  },
  {
   "cell_type": "markdown",
   "id": "b47a199a",
   "metadata": {},
   "source": [
    "## 5. Export Results\n"
   ]
  },
  {
   "cell_type": "code",
   "execution_count": null,
   "id": "055d33af",
   "metadata": {},
   "outputs": [],
   "source": [
    "# Export to CSV\n",
    "output_file = f\"{output_dir}/vep_results.csv\"\n",
    "results_df.to_csv(output_file, index=False)\n",
    "print(f\"Results exported to: {output_file}\")\n",
    "\n",
    "# Summary statistics\n",
    "print(\"\\nSummary Statistics:\")\n",
    "print(results_df['effect_score'].describe())\n",
    "print(f\"\\nClassification counts:\")\n",
    "print(results_df['classification'].value_counts())\n"
   ]
  }
 ],
 "metadata": {
  "language_info": {
   "name": "python"
  }
 },
 "nbformat": 4,
 "nbformat_minor": 5
}
