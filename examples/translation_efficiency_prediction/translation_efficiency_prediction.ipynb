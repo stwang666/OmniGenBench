{
 "cells": [
  {
   "metadata": {},
   "cell_type": "markdown",
   "source": [
    "# Translation Efficiency Prediction with OmniGenBench\n",
    "\n",
    "This notebook demonstrates how to fine-tune a Genomic Foundation Model (GFM) to predict Rice translation efficiency (TE) from mRNA sequences using OmniGenBench. The example focusing on plant RNA translation efficiency.\n",
    "\n",
    "**Background (PlantRNA-FM):**\n",
    "PlantRNA-FM (\"An interpretable RNA foundation model for exploring functional RNA motifs in plants\") introduces an RNA foundation model tailored to plant genomics, highlighting interpretability and motif discovery capabilities. TE prediction is a representative downstream task where models learn sequence determinants associated with efficient translation. In this demo, we use a small rice RNA [`translation efficiency dataset`](https://huggingface.co/datasets/yangheng/translation_efficiency_prediction) to illustrate fine-tuning and evaluation within OmniGenBench.\n",
    "\n",
    "- **Task type**: Binary sequence classification (High-TE vs Low-TE)\n",
    "- **Input**: RNA sequences (string), up to a configurable `max_length`\n",
    "- **Label space**: {0: Low-TE, 1: High-TE}\n",
    "\n",
    "**Estimated runtime:** On a single NVIDIA RTX 4090, a short training run on this toy dataset typically takes ~10–30 minutes depending on epochs/model size.\n",
    "\n",
    "##  Notebook Structure\n",
    "\n",
    "This notebook is organized into concise sections. Most core logic is moved to [`examples/translation_efficiency_prediction/utils.py`](https://github.com/COLA-Laboratory/OmniGenBench/blob/master/examples/translation_efficiency_prediction/utils.py) and imported here:\n",
    "\n",
    "1. **Setup & Installation**: Install optional dependencies.\n",
    "2. **Import Libraries**: Load Python packages and local utilities.\n",
    "3. **Configuration & Data**: Choose a model, set hyperparameters, and point to dataset files.\n",
    "4. **Main Analysis Pipeline**: Run training/evaluation with `utils.run_training`.\n",
    "5. **Results Overview**: Summarize validation/test metrics.\n",
    "6. **Visualization**: Plot validation metrics across epochs.\n",
    "7. **References**: Link to PlantRNA-FM."
   ],
   "id": "37f815534558f161"
  },
  {
   "metadata": {},
   "cell_type": "markdown",
   "source": [
    "## 1. Setup & Installation\n",
    "\n",
    "This section handles the initial setup, including installing necessary packages. If dependencies are already available, you can skip the installation cell.\n",
    "\n",
    "### Install Dependencies\n",
    "Uncomment and run the following cell to install the required packages."
   ],
   "id": "9ceb2a8181e7820e"
  },
  {
   "metadata": {
    "ExecuteTime": {
     "end_time": "2025-09-11T15:14:19.037993Z",
     "start_time": "2025-09-11T15:14:19.033248Z"
    }
   },
   "cell_type": "code",
   "source": [
    "# Optional: install dependencies if not available\n",
    "# !pip install torch transformers pandas autocuda multimolecule biopython scipy scikit-learn tqdm dill findfile requests omnigenbench\n"
   ],
   "id": "2fdadda994b56c9c",
   "outputs": [],
   "execution_count": 1
  },
  {
   "metadata": {},
   "cell_type": "markdown",
   "source": [
    "## 2. Import Libraries\n",
    "Import all necessary libraries for data processing, model training, and analysis."
   ],
   "id": "368aae70b71a4b9b"
  },
  {
   "metadata": {
    "ExecuteTime": {
     "end_time": "2025-09-11T15:14:31.275795Z",
     "start_time": "2025-09-11T15:14:19.061709Z"
    }
   },
   "cell_type": "code",
   "source": [
    "import warnings\n",
    "import importlib\n",
    "import matplotlib.pyplot as plt\n",
    "import seaborn as sns\n",
    "import pandas as pd\n",
    "import torch\n",
    "from autocuda import auto_cuda\n",
    "\n",
    "# Import utilities from the local utils.py file\n",
    "utils_spec = importlib.util.spec_from_file_location(\"utils\", \"utils.py\")\n",
    "utils = importlib.util.module_from_spec(utils_spec)\n",
    "utils_spec.loader.exec_module(utils)\n",
    "\n",
    "warnings.filterwarnings('ignore')\n",
    "print(\"Libraries imported successfully!\")\n"
   ],
   "id": "d0014e45e882422d",
   "outputs": [
    {
     "name": "stderr",
     "output_type": "stream",
     "text": [
      "C:\\Users\\hengu\\miniconda3\\envs\\py312\\Lib\\site-packages\\requests\\__init__.py:86: RequestsDependencyWarning: Unable to find acceptable character detection dependency (chardet or charset_normalizer).\n",
      "  warnings.warn(\n"
     ]
    },
    {
     "name": "stdout",
     "output_type": "stream",
     "text": [
      "\n",
      "    **@@ #========= @@**            ___                     _\n",
      "      **@@ +----- @@**             / _ \\  _ __ ___   _ __  (_)\n",
      "        **@@ = @@**               | | | || '_ ` _ \\ | '_ \\ | |\n",
      "           **@@                   | |_| || | | | | || | | || |\n",
      "        @@** = **@@                \\___/ |_| |_| |_||_| |_||_|\n",
      "     @@** ------+ **@@\n",
      "   @@** =========# **@@            ____\n",
      "  @@ ---------------+ @@          / ___|  ___  _ __\n",
      " @@ ================== @@        | |  _  / _ \\| '_ \\\n",
      "  @@ +--------------- @@         | |_| ||  __/| | | |\n",
      "   @@** #========= **@@           \\____| \\___||_| |_|\n",
      "    @@** +------ **@@\n",
      "       @@** = **@@\n",
      "          @@**                    ____                      _\n",
      "       **@@ = @@**               | __ )   ___  _ __    ___ | |__\n",
      "    **@@ -----+  @@**            |  _ \\  / _ \\| '_ \\  / __|| '_ \\\n",
      "  **@@ ==========# @@**          | |_) ||  __/| | | || (__ | | | |\n",
      "  @@ --------------+ @@**        |____/  \\___||_| |_| \\___||_| |_|\n",
      "\n",
      "Libraries imported successfully!\n"
     ]
    }
   ],
   "execution_count": 2
  },
  {
   "metadata": {},
   "cell_type": "markdown",
   "source": [
    "## 3. Configuration & Data\n",
    "\n",
    "Set up the analysis parameters, file paths, and model selection here. You can easily change the `MODEL_NAME` to test different GFMs.\n",
    "\n",
    "### Model Selection\n",
    "Choose the Genomic Foundation Model to fine-tune."
   ],
   "id": "59584089ed4d0003"
  },
  {
   "metadata": {
    "ExecuteTime": {
     "end_time": "2025-09-11T15:14:31.414310Z",
     "start_time": "2025-09-11T15:14:31.406256Z"
    }
   },
   "cell_type": "code",
   "source": [
    "# Using utils for reusable logic\n",
    "from utils import run_finetuning\n",
    "print(\"Core classes and functions imported from utils.\")\n",
    "\n",
    "# --- Available Models for Testing ---\n",
    "AVAILABLE_MODELS = [\n",
    "    # 'yangheng/OmniGenome-52M',\n",
    "    # 'yangheng/OmniGenome-186M',\n",
    "    'yangheng/OmniGenome-v1.5',\n",
    "]\n",
    "MODEL_NAME = AVAILABLE_MODELS[0]  # Model to use for predictions\n",
    "print(f\"Selected model: {MODEL_NAME}\")\n"
   ],
   "id": "547e026cafd913b5",
   "outputs": [
    {
     "name": "stdout",
     "output_type": "stream",
     "text": [
      "Core classes and functions imported from utils.\n",
      "Selected model: yangheng/OmniGenome-v1.5\n"
     ]
    }
   ],
   "execution_count": 3
  },
  {
   "metadata": {},
   "cell_type": "markdown",
   "source": [
    "### Hyperparameter and Dataset Configuration\n",
    "Define the training hyperparameters and paths to the dataset files."
   ],
   "id": "8a9859d376ae79da"
  },
  {
   "metadata": {
    "ExecuteTime": {
     "end_time": "2025-09-11T15:14:32.154246Z",
     "start_time": "2025-09-11T15:14:31.439878Z"
    }
   },
   "cell_type": "code",
   "source": [
    "import findfile\n",
    "\n",
    "# --- Training Hyperparameters ---\n",
    "EPOCHS = 10\n",
    "LEARNING_RATE = 2e-5\n",
    "WEIGHT_DECAY = 1e-5\n",
    "BATCH_SIZE = 4\n",
    "MAX_LENGTH = 1024\n",
    "SEED = 42\n",
    "\n",
    "# --- Dataset Configuration ---\n",
    "LOCAL_PATH = \"te_rice_dataset\"  # Local directory for the dataset\n",
    "from utils import download_te_dataset\n",
    "download_te_dataset(LOCAL_PATH)  # Download the VEP dataset if not already available\n",
    "\n",
    "# --- Dataset Configuration ---\n",
    "TRAIN_FILE = findfile.find_cwd_file(\"train.json\")  # training split\n",
    "VALID_FILE = findfile.find_cwd_file(\"valid.json\")  # validation split (optional)\n",
    "TEST_FILE = findfile.find_cwd_file(\"test.json\")  # test split\n",
    "# --- Label Mapping ---\n",
    "# The task is binary classification: 1 for TE, 0 for non-TE.\n",
    "LABEL2ID = {\"0\": 0, \"1\": 1}\n",
    "\n",
    "print(f\"Selected model: {MODEL_NAME}\")\n"
   ],
   "id": "e266997994ee0a88",
   "outputs": [
    {
     "name": "stdout",
     "output_type": "stream",
     "text": [
      "Downloading te_rice_dataset.zip from https://huggingface.co/datasets/yangheng/translation_efficiency_prediction/resolve/main/translation_efficiency_prediction.zip...\n",
      "Downloaded te_rice_dataset\\te_rice_dataset.zip\n",
      "Extracted te_rice_dataset.zip into te_rice_dataset\n",
      "Selected model: yangheng/OmniGenome-v1.5\n"
     ]
    }
   ],
   "execution_count": 4
  },
  {
   "metadata": {},
   "cell_type": "markdown",
   "source": [
    "## 4. Main Analysis Pipeline\n",
    "\n",
    "This section executes the training/evaluation pipeline using the configuration defined above. The `run_training` function from `examples/translation_efficiency_prediction/utils.py` orchestrates tokenization, dataset creation, training, and evaluation."
   ],
   "id": "e332d80578aba4ed"
  },
  {
   "metadata": {
    "ExecuteTime": {
     "end_time": "2025-09-11T16:15:25.616747Z",
     "start_time": "2025-09-11T15:14:32.162274Z"
    }
   },
   "cell_type": "code",
   "source": [
    "# Import main pipeline from utils for a concise demo\n",
    "from utils import run_finetuning\n",
    "\n",
    "print(\"Main analysis pipeline imported from utils.\")\n",
    "\n",
    "print(\"=\" * 50)\n",
    "\n",
    "# Run the analysis\n",
    "metrics = run_finetuning(\n",
    "\tmodel_name=MODEL_NAME,\n",
    "\ttrain_file=TRAIN_FILE,\n",
    "\tvalid_file=VALID_FILE,\n",
    "\ttest_file=TEST_FILE,\n",
    "\tlabel2id=LABEL2ID,\n",
    "\tepochs=EPOCHS,\n",
    "\tlearning_rate=LEARNING_RATE,\n",
    "\tweight_decay=WEIGHT_DECAY,\n",
    "\tbatch_size=BATCH_SIZE,\n",
    "\tmax_length=MAX_LENGTH,\n",
    "\tseed=SEED,\n",
    ")\n",
    "\n",
    "print(\"=\" * 50)\n",
    "print(\"Analysis completed!\")\n",
    "\n",
    "# Print final validation and test metrics (if available)\n",
    "if metrics.get('valid'):\n",
    "\tprint(\"\\nValidation Set Performance (last epoch):\")\n",
    "\tfor key, value in metrics['valid'][-1].items():\n",
    "\t\tprint(f\"{key}: {value:.4f}\")\n",
    "\n",
    "if metrics.get('test'):\n",
    "\tprint(\"\\nTest Set Performance (best checkpoint):\")\n",
    "\tfor key, value in metrics['test'][-1].items():\n",
    "\t\tprint(f\"{key}: {value:.4f}\")\n"
   ],
   "id": "ca6e91fa0cb64ec6",
   "outputs": [
    {
     "name": "stdout",
     "output_type": "stream",
     "text": [
      "Main analysis pipeline imported from utils.\n",
      "==================================================\n"
     ]
    },
    {
     "name": "stderr",
     "output_type": "stream",
     "text": [
      "Some weights of OmniGenomeModel were not initialized from the model checkpoint at yangheng/OmniGenome-v1.5 and are newly initialized: ['pooler.dense.bias', 'pooler.dense.weight']\n",
      "You should probably TRAIN this model on a down-stream task to be able to use it for predictions and inference.\n"
     ]
    },
    {
     "name": "stdout",
     "output_type": "stream",
     "text": [
      "[2025-09-11 16:14:35.027] [omnigenbench 0.3.11alpha2]  Model Name: OmniModelForSequenceClassification\n",
      "Model Metadata: {'library_name': 'omnigenbench', 'omnigenbench_version': '0.3.11alpha2', 'torch_version': '2.8.0+cu129+cu12.9+gita1cb3cc05d46d198467bebbb6e8fba50a325d4e7', 'transformers_version': '4.56.1', 'model_cls': 'OmniModelForSequenceClassification', 'tokenizer_cls': 'EsmTokenizer', 'model_name': 'OmniModelForSequenceClassification'}\n",
      "Base Model Name: yangheng/OmniGenome-v1.5\n",
      "Model Type: omnigenome\n",
      "Model Architecture: ['OmniGenomeForMaskedLM']\n",
      "Model Parameters: 185.886801 M\n",
      "Model Config: OmniGenomeConfig {\n",
      "  \"OmniGenomefold_config\": null,\n",
      "  \"architectures\": [\n",
      "    \"OmniGenomeForMaskedLM\"\n",
      "  ],\n",
      "  \"attention_probs_dropout_prob\": 0.0,\n",
      "  \"auto_map\": {\n",
      "    \"AutoConfig\": \"configuration_omnigenome.OmniGenomeConfig\",\n",
      "    \"AutoModel\": \"modeling_omnigenome.OmniGenomeModel\",\n",
      "    \"AutoModelForMaskedLM\": \"modeling_omnigenome.OmniGenomeForMaskedLM\",\n",
      "    \"AutoModelForSeq2SeqLM\": \"modeling_omnigenome.OmniGenomeForSeq2SeqLM\",\n",
      "    \"AutoModelForSequenceClassification\": \"modeling_omnigenome.OmniGenomeForSequenceClassification\",\n",
      "    \"AutoModelForTokenClassification\": \"modeling_omnigenome.OmniGenomeForTokenClassification\"\n",
      "  },\n",
      "  \"classifier_dropout\": null,\n",
      "  \"dtype\": \"float16\",\n",
      "  \"emb_layer_norm_before\": false,\n",
      "  \"hidden_act\": \"gelu\",\n",
      "  \"hidden_dropout_prob\": 0,\n",
      "  \"hidden_size\": 720,\n",
      "  \"id2label\": {\n",
      "    \"0\": \"0\",\n",
      "    \"1\": \"1\"\n",
      "  },\n",
      "  \"initializer_range\": 0.02,\n",
      "  \"intermediate_size\": 2560,\n",
      "  \"is_folding_model\": false,\n",
      "  \"label2id\": {\n",
      "    \"0\": 0,\n",
      "    \"1\": 1\n",
      "  },\n",
      "  \"layer_norm_eps\": 1e-05,\n",
      "  \"mask_token_id\": 23,\n",
      "  \"max_position_embeddings\": 1026,\n",
      "  \"model_type\": \"omnigenome\",\n",
      "  \"num_attention_heads\": 30,\n",
      "  \"num_generation\": 50,\n",
      "  \"num_hidden_layers\": 32,\n",
      "  \"num_population\": 100,\n",
      "  \"pad_token_id\": 1,\n",
      "  \"position_embedding_type\": \"rotary\",\n",
      "  \"token_dropout\": true,\n",
      "  \"transformers_version\": \"4.56.1\",\n",
      "  \"use_cache\": true,\n",
      "  \"vocab_list\": null,\n",
      "  \"vocab_size\": 24\n",
      "}\n",
      "\n",
      "\n",
      "Model 'yangheng/OmniGenome-v1.5' and tokenizer loaded successfully.\n",
      "[2025-09-11 16:14:35.031] [omnigenbench 0.3.11alpha2]  Detected max_length=1024 in the dataset, using it as the max_length.\n",
      "[2025-09-11 16:14:35.033] [omnigenbench 0.3.11alpha2]  Loading data from te_rice_dataset\\train.json...\n",
      "[2025-09-11 16:14:35.081] [omnigenbench 0.3.11alpha2]  Loaded 4697 examples from te_rice_dataset\\train.json\n",
      "[2025-09-11 16:14:35.083] [omnigenbench 0.3.11alpha2]  Detected shuffle=True, shuffling the examples...\n"
     ]
    },
    {
     "name": "stderr",
     "output_type": "stream",
     "text": [
      "100%|██████████| 4697/4697 [00:13<00:00, 350.50it/s]\n"
     ]
    },
    {
     "name": "stdout",
     "output_type": "stream",
     "text": [
      "[2025-09-11 16:14:48.508] [omnigenbench 0.3.11alpha2]  \n",
      "Label Distribution:\n",
      "[2025-09-11 16:14:48.508] [omnigenbench 0.3.11alpha2]  ----------------------------------------\n",
      "[2025-09-11 16:14:48.510] [omnigenbench 0.3.11alpha2]  Label     \t\tCount     \t\tPercentage\n",
      "[2025-09-11 16:14:48.514] [omnigenbench 0.3.11alpha2]  ----------------------------------------\n",
      "[2025-09-11 16:14:48.515] [omnigenbench 0.3.11alpha2]  0         \t\t2195      \t\t46.73%\n",
      "[2025-09-11 16:14:48.517] [omnigenbench 0.3.11alpha2]  1         \t\t2502      \t\t53.27%\n",
      "[2025-09-11 16:14:48.520] [omnigenbench 0.3.11alpha2]  ----------------------------------------\n",
      "[2025-09-11 16:14:48.522] [omnigenbench 0.3.11alpha2]  Total samples: 4697\n",
      "[2025-09-11 16:14:48.592] [omnigenbench 0.3.11alpha2]  Max sequence length updated -> Reset max_length=504, label_padding_length=0\n",
      "[2025-09-11 16:14:48.726] [omnigenbench 0.3.11alpha2]  Detected max_length=1024 in the dataset, using it as the max_length.\n",
      "[2025-09-11 16:14:48.728] [omnigenbench 0.3.11alpha2]  Loading data from te_rice_dataset\\valid.json...\n",
      "[2025-09-11 16:14:48.746] [omnigenbench 0.3.11alpha2]  Loaded 587 examples from te_rice_dataset\\valid.json\n",
      "[2025-09-11 16:14:48.749] [omnigenbench 0.3.11alpha2]  Detected shuffle=True, shuffling the examples...\n"
     ]
    },
    {
     "name": "stderr",
     "output_type": "stream",
     "text": [
      "100%|██████████| 587/587 [00:01<00:00, 353.29it/s]\n"
     ]
    },
    {
     "name": "stdout",
     "output_type": "stream",
     "text": [
      "[2025-09-11 16:14:50.417] [omnigenbench 0.3.11alpha2]  \n",
      "Label Distribution:\n",
      "[2025-09-11 16:14:50.418] [omnigenbench 0.3.11alpha2]  ----------------------------------------\n",
      "[2025-09-11 16:14:50.421] [omnigenbench 0.3.11alpha2]  Label     \t\tCount     \t\tPercentage\n",
      "[2025-09-11 16:14:50.423] [omnigenbench 0.3.11alpha2]  ----------------------------------------\n",
      "[2025-09-11 16:14:50.425] [omnigenbench 0.3.11alpha2]  0         \t\t259       \t\t44.12%\n",
      "[2025-09-11 16:14:50.427] [omnigenbench 0.3.11alpha2]  1         \t\t328       \t\t55.88%\n",
      "[2025-09-11 16:14:50.429] [omnigenbench 0.3.11alpha2]  ----------------------------------------\n",
      "[2025-09-11 16:14:50.430] [omnigenbench 0.3.11alpha2]  Total samples: 587\n",
      "[2025-09-11 16:14:50.450] [omnigenbench 0.3.11alpha2]  Max sequence length updated -> Reset max_length=504, label_padding_length=0\n",
      "[2025-09-11 16:14:50.469] [omnigenbench 0.3.11alpha2]  Detected max_length=1024 in the dataset, using it as the max_length.\n",
      "[2025-09-11 16:14:50.471] [omnigenbench 0.3.11alpha2]  Loading data from te_rice_dataset\\test.json...\n",
      "[2025-09-11 16:14:50.485] [omnigenbench 0.3.11alpha2]  Loaded 588 examples from te_rice_dataset\\test.json\n",
      "[2025-09-11 16:14:50.488] [omnigenbench 0.3.11alpha2]  Detected shuffle=True, shuffling the examples...\n"
     ]
    },
    {
     "name": "stderr",
     "output_type": "stream",
     "text": [
      "100%|██████████| 588/588 [00:01<00:00, 443.00it/s]\n"
     ]
    },
    {
     "name": "stdout",
     "output_type": "stream",
     "text": [
      "[2025-09-11 16:14:51.822] [omnigenbench 0.3.11alpha2]  \n",
      "Label Distribution:\n",
      "[2025-09-11 16:14:51.824] [omnigenbench 0.3.11alpha2]  ----------------------------------------\n",
      "[2025-09-11 16:14:51.826] [omnigenbench 0.3.11alpha2]  Label     \t\tCount     \t\tPercentage\n",
      "[2025-09-11 16:14:51.829] [omnigenbench 0.3.11alpha2]  ----------------------------------------\n",
      "[2025-09-11 16:14:51.830] [omnigenbench 0.3.11alpha2]  0         \t\t258       \t\t43.88%\n",
      "[2025-09-11 16:14:51.833] [omnigenbench 0.3.11alpha2]  1         \t\t330       \t\t56.12%\n",
      "[2025-09-11 16:14:51.835] [omnigenbench 0.3.11alpha2]  ----------------------------------------\n",
      "[2025-09-11 16:14:51.838] [omnigenbench 0.3.11alpha2]  Total samples: 588\n",
      "[2025-09-11 16:14:51.855] [omnigenbench 0.3.11alpha2]  Max sequence length updated -> Reset max_length=504, label_padding_length=0\n",
      "Datasets and DataLoaders created.\n"
     ]
    },
    {
     "name": "stderr",
     "output_type": "stream",
     "text": [
      "Evaluating: 100%|██████████| 147/147 [00:11<00:00, 12.70it/s]\n"
     ]
    },
    {
     "name": "stdout",
     "output_type": "stream",
     "text": [
      "[2025-09-11 16:15:04.027] [omnigenbench 0.3.11alpha2]  {'f1_score': 0.3095483894174565}\n"
     ]
    },
    {
     "name": "stderr",
     "output_type": "stream",
     "text": [
      "Epoch 1/10 Loss: 0.6067: 100%|██████████| 1175/1175 [04:54<00:00,  3.99it/s]\n",
      "Evaluating: 100%|██████████| 147/147 [00:13<00:00, 10.72it/s]\n"
     ]
    },
    {
     "name": "stdout",
     "output_type": "stream",
     "text": [
      "[2025-09-11 16:20:12.989] [omnigenbench 0.3.11alpha2]  {'f1_score': 0.7414360934058721}\n"
     ]
    },
    {
     "name": "stderr",
     "output_type": "stream",
     "text": [
      "Epoch 2/10 Loss: 0.5489: 100%|██████████| 1175/1175 [05:00<00:00,  3.92it/s]\n",
      "Evaluating: 100%|██████████| 147/147 [00:15<00:00,  9.61it/s]\n"
     ]
    },
    {
     "name": "stdout",
     "output_type": "stream",
     "text": [
      "[2025-09-11 16:25:29.445] [omnigenbench 0.3.11alpha2]  {'f1_score': 0.7209673907376569}\n"
     ]
    },
    {
     "name": "stderr",
     "output_type": "stream",
     "text": [
      "Epoch 3/10 Loss: 0.5103: 100%|██████████| 1175/1175 [05:27<00:00,  3.58it/s]\n",
      "Evaluating: 100%|██████████| 147/147 [00:14<00:00, 10.26it/s]\n"
     ]
    },
    {
     "name": "stdout",
     "output_type": "stream",
     "text": [
      "[2025-09-11 16:31:11.643] [omnigenbench 0.3.11alpha2]  {'f1_score': 0.7425685350248176}\n"
     ]
    },
    {
     "name": "stderr",
     "output_type": "stream",
     "text": [
      "Epoch 4/10 Loss: 0.4779: 100%|██████████| 1175/1175 [06:32<00:00,  3.00it/s]\n",
      "Evaluating: 100%|██████████| 147/147 [00:22<00:00,  6.42it/s]\n"
     ]
    },
    {
     "name": "stdout",
     "output_type": "stream",
     "text": [
      "[2025-09-11 16:38:07.833] [omnigenbench 0.3.11alpha2]  {'f1_score': 0.7396651129458136}\n"
     ]
    },
    {
     "name": "stderr",
     "output_type": "stream",
     "text": [
      "Epoch 5/10 Loss: 0.4806: 100%|██████████| 1175/1175 [06:21<00:00,  3.08it/s]\n",
      "Evaluating: 100%|██████████| 147/147 [00:19<00:00,  7.43it/s]\n"
     ]
    },
    {
     "name": "stdout",
     "output_type": "stream",
     "text": [
      "[2025-09-11 16:44:48.893] [omnigenbench 0.3.11alpha2]  {'f1_score': 0.7299682167949146}\n"
     ]
    },
    {
     "name": "stderr",
     "output_type": "stream",
     "text": [
      "Epoch 6/10 Loss: 0.4798: 100%|██████████| 1175/1175 [05:53<00:00,  3.32it/s]\n",
      "Evaluating: 100%|██████████| 147/147 [00:24<00:00,  5.89it/s]\n"
     ]
    },
    {
     "name": "stdout",
     "output_type": "stream",
     "text": [
      "[2025-09-11 16:51:07.439] [omnigenbench 0.3.11alpha2]  {'f1_score': 0.7325103836207272}\n"
     ]
    },
    {
     "name": "stderr",
     "output_type": "stream",
     "text": [
      "Epoch 7/10 Loss: 0.4930: 100%|██████████| 1175/1175 [06:22<00:00,  3.07it/s]\n",
      "Evaluating: 100%|██████████| 147/147 [00:20<00:00,  7.12it/s]\n"
     ]
    },
    {
     "name": "stdout",
     "output_type": "stream",
     "text": [
      "[2025-09-11 16:57:50.337] [omnigenbench 0.3.11alpha2]  {'f1_score': 0.6671706671706672}\n"
     ]
    },
    {
     "name": "stderr",
     "output_type": "stream",
     "text": [
      "Epoch 8/10 Loss: 0.4855: 100%|██████████| 1175/1175 [05:44<00:00,  3.41it/s]\n",
      "Evaluating: 100%|██████████| 147/147 [00:22<00:00,  6.53it/s]\n"
     ]
    },
    {
     "name": "stdout",
     "output_type": "stream",
     "text": [
      "[2025-09-11 17:03:56.948] [omnigenbench 0.3.11alpha2]  {'f1_score': 0.67966297912073}\n"
     ]
    },
    {
     "name": "stderr",
     "output_type": "stream",
     "text": [
      "Epoch 9/10 Loss: 0.4729: 100%|██████████| 1175/1175 [06:06<00:00,  3.20it/s]\n",
      "Evaluating: 100%|██████████| 147/147 [00:11<00:00, 12.81it/s]\n"
     ]
    },
    {
     "name": "stdout",
     "output_type": "stream",
     "text": [
      "[2025-09-11 17:10:15.132] [omnigenbench 0.3.11alpha2]  {'f1_score': 0.7588886979168183}\n"
     ]
    },
    {
     "name": "stderr",
     "output_type": "stream",
     "text": [
      "Epoch 10/10 Loss: 0.4799: 100%|██████████| 1175/1175 [04:43<00:00,  4.14it/s]\n",
      "Evaluating: 100%|██████████| 147/147 [00:11<00:00, 13.22it/s]\n"
     ]
    },
    {
     "name": "stdout",
     "output_type": "stream",
     "text": [
      "[2025-09-11 17:15:10.725] [omnigenbench 0.3.11alpha2]  {'f1_score': 0.7152533237513474}\n"
     ]
    },
    {
     "name": "stderr",
     "output_type": "stream",
     "text": [
      "Testing: 100%|██████████| 147/147 [00:12<00:00, 11.32it/s]\n"
     ]
    },
    {
     "name": "stdout",
     "output_type": "stream",
     "text": [
      "[2025-09-11 17:15:24.229] [omnigenbench 0.3.11alpha2]  {'f1_score': 0.7363382250174704}\n",
      "[2025-09-11 17:15:25.549] [omnigenbench 0.3.11alpha2]  The model is saved to finetuned_te_model.\n",
      "Training completed!\n",
      "==================================================\n",
      "Analysis completed!\n",
      "\n",
      "Validation Set Performance (last epoch):\n",
      "f1_score: 0.7153\n",
      "\n",
      "Test Set Performance (best checkpoint):\n",
      "f1_score: 0.7363\n"
     ]
    }
   ],
   "execution_count": 5
  },
  {
   "metadata": {},
   "cell_type": "markdown",
   "source": [
    "## 5. Inference  Example\n",
    "This section demonstrates how to run inference on a single sequence using the fine-tuned model. The `encode_tokens` function ensures the same preprocessing as during training."
   ],
   "id": "824e800bc61706aa"
  },
  {
   "metadata": {
    "ExecuteTime": {
     "end_time": "2025-09-11T16:34:53.465791Z",
     "start_time": "2025-09-11T16:34:45.000443Z"
    }
   },
   "cell_type": "code",
   "source": [
    "from omnigenbench import ModelHub\n",
    "from autocuda import auto_cuda\n",
    "\n",
    "model = ModelHub.load(\"yangheng/ogb_te_finetuned\").to(auto_cuda())\n",
    "\n",
    "# Example sequence for inference\n",
    "sample_sequence1 = \"AAACCAACAAAATGCAGTAGAAGTACTCTCGAGCTATAGTCGCGACGTGCTGCCCCGCAGGAGTACAGTAGTAGTACAACGTAAGCGGGAGCAACAGACTCCCCCCCTGCAACCCACTGTGCCTGTGCCCTCGACGCGTCTCCGTCGCTTTGGCAAATGTCACGTACATATTACCGTCTCAGGCTCTCAGCCATGCTCCCTACCACCCCTGCAGCGAAGCAAAAGCCACGCACGCGGCGCCTGACATGTAACAGGACTAGACCATCTTGTTCATTTCCCGCACCCCCTCCTCTCCTCTTCCTCCATCTGCCTCTTTAAAACAGTAAAAATAACCGTGCATCCCCTGGGCAAAATCTCTCCCATACATACACTACAGCGGCGAACCTTTCCTTATTCTCGCAACGCCTCGGTAACGGGCAGCGCCTGCTCCGCGCCGCGGTTGCGAGTTCGGGAAGGCGGCCGGAGTCGCGGGGAGGAGAGGGAGGATTCGATCGGCCAGA\"  # High-TE sequence\n",
    "\n",
    "sample_sequence2 = \"TGGAGATGGGCAGATGGCACACAAAACATGAATAGAAAACCCAAAAGGAAGGATGAAAAAAACACACACACACACACACACAAAACACAGAGAGAGAGAGAGAGAGAGAGCGAGAAAAGAAAAGAAAAAACCAATTCTTTTGGTCTCTTCCCTCTCCGTTTGTCGTGTCGAAGCCTTTGCCCCCACCACCTCCTCCTCTCCTCTCCCTTCCTCCCCTCCTCCCCATCTCGCTCTCCTCCCTCCTCTCTCCTCTCCTCGTCTCCTCTTCCTCTCCATTCCATTGGCCATTCCATTCCATTCCACCCCCCATGAAACCCCAAACCCTCGTCGGCCTCGCCGCGCTCGCGTAGCGCACCCGCCCTTCTCCTCTCGCCGGTGGTCCGCCGCCAGCCTCCCCCCACCCGATCCCGCCGCCCCCCCCGCCTTCACCCCGCCCACGCGGACGCATCCGATCCCGCCGCATCGCCGCGCGGGGGGGGGGGGGGGGGGGGGAGGGCACG \"  # Low-TE sequence\n",
    "\n",
    "# Run inference on the sample sequences\n",
    "outputs = model.inference(sample_sequence1)\n",
    "print(f\"Sample sequence 1 prediction: {outputs}\")\n",
    "outputs = model.inference(sample_sequence2)\n",
    "print(f\"Sample sequence 2 prediction: {outputs}\")\n",
    "\n"
   ],
   "id": "f4eaf486034752c8",
   "outputs": [
    {
     "name": "stdout",
     "output_type": "stream",
     "text": [
      "[2025-09-11 17:34:45.004] [omnigenbench 0.3.11alpha2]  Model yangheng/ogb_te_finetuned already exists locally at __OMNIGENOME_DATA__\\models\\yangheng--ogb_te_finetuned\n",
      "[2025-09-11 17:34:45.006] [omnigenbench 0.3.11alpha2]  Cloned model from Hugging Face Hub to: __OMNIGENOME_DATA__\\models\\yangheng--ogb_te_finetuned\n",
      "[2025-09-11 17:34:45.015] [omnigenbench 0.3.11alpha2]  Loaded metadata from: __OMNIGENOME_DATA__\\models\\yangheng--ogb_te_finetuned\\metadata.json\n",
      "[2025-09-11 17:34:52.344] [omnigenbench 0.3.11alpha2]  Model Name: OmniModelForSequenceClassification\n",
      "Model Metadata: {'library_name': 'omnigenbench', 'omnigenbench_version': '0.3.11alpha2', 'torch_version': '2.8.0+cu129+cu12.9+gita1cb3cc05d46d198467bebbb6e8fba50a325d4e7', 'transformers_version': '4.56.1', 'model_cls': 'OmniModelForSequenceClassification', 'tokenizer_cls': 'EsmTokenizer', 'model_name': 'OmniModelForSequenceClassification'}\n",
      "Base Model Name: __OMNIGENOME_DATA__\\models\\yangheng--ogb_te_finetuned\n",
      "Model Type: omnigenome\n",
      "Model Architecture: ['OmniGenomeModel']\n",
      "Model Parameters: 185.886801 M\n",
      "Model Config: OmniGenomeConfig {\n",
      "  \"OmniGenomefold_config\": null,\n",
      "  \"architectures\": [\n",
      "    \"OmniGenomeModel\"\n",
      "  ],\n",
      "  \"attention_probs_dropout_prob\": 0.0,\n",
      "  \"auto_map\": {\n",
      "    \"AutoConfig\": \"configuration_omnigenome.OmniGenomeConfig\",\n",
      "    \"AutoModel\": \"modeling_omnigenome.OmniGenomeModel\",\n",
      "    \"AutoModelForMaskedLM\": \"modeling_omnigenome.OmniGenomeForMaskedLM\",\n",
      "    \"AutoModelForSeq2SeqLM\": \"modeling_omnigenome.OmniGenomeForSeq2SeqLM\",\n",
      "    \"AutoModelForSequenceClassification\": \"modeling_omnigenome.OmniGenomeForSequenceClassification\",\n",
      "    \"AutoModelForTokenClassification\": \"modeling_omnigenome.OmniGenomeForTokenClassification\"\n",
      "  },\n",
      "  \"classifier_dropout\": null,\n",
      "  \"dtype\": \"float16\",\n",
      "  \"emb_layer_norm_before\": false,\n",
      "  \"hidden_act\": \"gelu\",\n",
      "  \"hidden_dropout_prob\": 0,\n",
      "  \"hidden_size\": 720,\n",
      "  \"id2label\": {\n",
      "    \"0\": \"0\",\n",
      "    \"1\": \"1\"\n",
      "  },\n",
      "  \"initializer_range\": 0.02,\n",
      "  \"intermediate_size\": 2560,\n",
      "  \"is_folding_model\": false,\n",
      "  \"label2id\": {\n",
      "    \"0\": 0,\n",
      "    \"1\": 1\n",
      "  },\n",
      "  \"layer_norm_eps\": 1e-05,\n",
      "  \"mask_token_id\": 23,\n",
      "  \"max_position_embeddings\": 1026,\n",
      "  \"metadata\": {\n",
      "    \"library_name\": \"omnigenbench\",\n",
      "    \"loss_fn_class\": \"CrossEntropyLoss\",\n",
      "    \"loss_fn_module\": \"torch.nn.modules.loss\",\n",
      "    \"model_cls\": \"OmniModelForSequenceClassification\",\n",
      "    \"model_name\": \"OmniModelForSequenceClassification\",\n",
      "    \"omnigenbench_version\": \"0.3.11alpha2\",\n",
      "    \"tokenizer_cls\": \"EsmTokenizer\",\n",
      "    \"torch_version\": \"2.8.0+cu129+cu12.9+gita1cb3cc05d46d198467bebbb6e8fba50a325d4e7\",\n",
      "    \"transformers_version\": \"4.56.1\"\n",
      "  },\n",
      "  \"model_type\": \"omnigenome\",\n",
      "  \"num_attention_heads\": 30,\n",
      "  \"num_generation\": 50,\n",
      "  \"num_hidden_layers\": 32,\n",
      "  \"num_population\": 100,\n",
      "  \"pad_token_id\": 1,\n",
      "  \"position_embedding_type\": \"rotary\",\n",
      "  \"token_dropout\": true,\n",
      "  \"transformers_version\": \"4.56.1\",\n",
      "  \"use_cache\": true,\n",
      "  \"vocab_list\": null,\n",
      "  \"vocab_size\": 24\n",
      "}\n",
      "\n",
      "\n",
      "[2025-09-11 17:34:52.346] [omnigenbench 0.3.11alpha2]  Loading state dict from: __OMNIGENOME_DATA__\\models\\yangheng--ogb_te_finetuned\\pytorch_model.bin\n",
      "[2025-09-11 17:34:52.620] [omnigenbench 0.3.11alpha2]  No device is specified, the model will be loaded to the default device: cuda:0\n",
      "Sample sequence 1 prediction: {'predictions': '1', 'logits': tensor([4.8280e-06, 1.0000e+00], device='cuda:0', dtype=torch.float16), 'confidence': tensor(1., device='cuda:0', dtype=torch.float16), 'last_hidden_state': tensor([ 0.6582, -0.6797,  0.5137,  0.6616, -0.6025,  0.4343,  0.5879,  0.4897,\n",
      "         0.6704, -0.8130, -0.4844, -0.3335,  0.1182,  0.0610,  0.5703,  0.2627,\n",
      "         0.5537, -0.7148, -0.6172,  0.7285,  0.1710,  0.4094,  0.5850,  0.7197,\n",
      "         0.8413,  0.4167,  0.7520, -0.5806,  0.6455,  0.6748,  0.8071, -0.7480,\n",
      "        -0.5757,  0.5435, -0.4583, -0.6060,  0.3245,  0.7251,  0.6538, -0.4492,\n",
      "         0.8047,  0.5957,  0.7324, -0.2632, -0.4102,  0.7266,  0.6108, -0.7783,\n",
      "        -0.0358, -0.6660,  0.8467,  0.6450,  0.5312,  0.6289,  0.6294, -0.6582,\n",
      "         0.2888,  0.6421, -0.4250, -0.5415, -0.6079, -0.5327, -0.2778, -0.3000,\n",
      "         0.6978,  0.4414,  0.8140, -0.7612,  0.6748, -0.7437,  0.7344,  0.5049,\n",
      "         0.2260,  0.6157,  0.7734,  0.5830,  0.6680, -0.2969,  0.3672,  0.1444,\n",
      "         0.1069,  0.8706,  0.7998,  0.8013, -0.5669,  0.5728,  0.4246, -0.8457,\n",
      "        -0.7056,  0.7080,  0.7827, -0.7056, -0.3433, -0.7349, -0.7529,  0.3916,\n",
      "         0.7402, -0.8740, -0.4685,  0.6646, -0.6157, -0.6289, -0.6738, -0.2998,\n",
      "        -0.4199, -0.6348, -0.2905, -0.5762, -0.6875,  0.6274, -0.1318, -0.4773,\n",
      "         0.6133, -0.5010,  0.2661,  0.0800,  0.2128,  0.6753,  0.4470, -0.7046,\n",
      "        -0.5186,  0.5435, -0.8545, -0.8555,  0.2878,  0.5269, -0.3140, -0.8101,\n",
      "         0.7559, -0.7134, -0.7461,  0.6333, -0.4792, -0.6035, -0.6890,  0.1476,\n",
      "         0.6353, -0.6621, -0.3862, -0.6816,  0.3657,  0.5991,  0.4927,  0.4521,\n",
      "        -0.5747, -0.3733, -0.5874, -0.5063, -0.8247, -0.4656,  0.5835,  0.4409,\n",
      "         0.2401,  0.4773, -0.5332, -0.3774,  0.7070,  0.3259, -0.7290, -0.5547,\n",
      "         0.6953, -0.6816,  0.7944, -0.4009, -0.4893,  0.2255,  0.3535,  0.6328,\n",
      "        -0.6523,  0.0744,  0.4717,  0.7578,  0.8535,  0.6787, -0.6089, -0.4114,\n",
      "        -0.2510,  0.4465,  0.7510, -0.3479, -0.2761, -0.7222, -0.4421, -0.5239,\n",
      "        -0.3938, -0.6465,  0.6260, -0.6143, -0.6719,  0.6475,  0.6377,  0.4587,\n",
      "        -0.6885,  0.7646,  0.5742,  0.4224, -0.4829, -0.1335, -0.6934,  0.8193,\n",
      "        -0.6934,  0.6177, -0.7656, -0.7480, -0.5879, -0.6782,  0.8193, -0.5527,\n",
      "         0.3225, -0.6113, -0.8081, -0.6743, -0.3494,  0.7422,  0.3298,  0.7495,\n",
      "         0.7031,  0.4993,  0.7261, -0.7568,  0.0965,  0.7095, -0.2952,  0.8315,\n",
      "        -0.6440,  0.0501,  0.6724,  0.3555, -0.2742, -0.5742,  0.8237, -0.0226,\n",
      "         0.7710,  0.6064, -0.1534,  0.7852,  0.7373, -0.6880, -0.7114, -0.7607,\n",
      "         0.8398, -0.5386,  0.6250,  0.2280,  0.5146, -0.6460, -0.7021,  0.6108,\n",
      "         0.6978, -0.4609,  0.7202, -0.8364,  0.6196, -0.5283,  0.5728,  0.7578,\n",
      "        -0.5298,  0.5293,  0.6431,  0.7686,  0.4617,  0.7153, -0.6689, -0.4485,\n",
      "        -0.4849,  0.7041,  0.0418,  0.7080,  0.6460, -0.6045,  0.7529, -0.5850,\n",
      "         0.6289, -0.6016, -0.5122,  0.4436, -0.5137, -0.6875, -0.5664, -0.6548,\n",
      "        -0.6670,  0.7739, -0.6665,  0.5435,  0.7280, -0.7988,  0.7051,  0.7451,\n",
      "        -0.5171,  0.6597,  0.6289,  0.1713, -0.0344, -0.7607, -0.6060,  0.8203,\n",
      "        -0.0465, -0.5776, -0.5249,  0.7183,  0.5962,  0.0972, -0.3892, -0.6821,\n",
      "         0.7388,  0.6738, -0.6157, -0.5854, -0.6636, -0.7773, -0.8042, -0.6836,\n",
      "        -0.7715, -0.4644, -0.7197, -0.4863,  0.7671, -0.5840, -0.7554, -0.5610,\n",
      "         0.6426,  0.6655,  0.4602, -0.6592,  0.7080, -0.3115, -0.2258, -0.7759,\n",
      "        -0.8003, -0.4570,  0.6890,  0.6968, -0.7290, -0.6694,  0.5195, -0.1798,\n",
      "        -0.5513,  0.6113, -0.2695,  0.6748,  0.8584,  0.4404, -0.4148, -0.7271,\n",
      "         0.6987, -0.2477, -0.4551, -0.7183,  0.6714, -0.6875,  0.3423,  0.6504,\n",
      "        -0.6157,  0.7363, -0.1780,  0.4297,  0.0997,  0.3550, -0.3796, -0.7515,\n",
      "         0.7305, -0.7349, -0.3083,  0.6016,  0.7139,  0.7598, -0.5078, -0.5459,\n",
      "        -0.6484, -0.2249, -0.5244, -0.2477, -0.4106, -0.8262, -0.6284, -0.7085,\n",
      "         0.1068, -0.6221,  0.6689,  0.0972, -0.6235, -0.5347, -0.6450, -0.4822,\n",
      "        -0.5371,  0.6963,  0.6875, -0.1321,  0.5225,  0.1742,  0.5537, -0.1831,\n",
      "        -0.7583, -0.2854, -0.4958,  0.7549, -0.7280, -0.6113, -0.6514, -0.7778,\n",
      "         0.5815,  0.7373,  0.8042,  0.7012,  0.6567, -0.5713,  0.5049,  0.7573,\n",
      "         0.0301, -0.4131, -0.5918, -0.7510, -0.5503,  0.6543,  0.5635,  0.0728,\n",
      "        -0.6479,  0.6885, -0.4236, -0.7368, -0.7456, -0.2617, -0.7456,  0.5981,\n",
      "         0.2747,  0.8892,  0.4607,  0.0635,  0.6499, -0.6855,  0.2109, -0.2698,\n",
      "        -0.7100, -0.7124, -0.5166,  0.6753, -0.5918, -0.4553, -0.6787, -0.2905,\n",
      "        -0.7026,  0.3696, -0.7485,  0.5723,  0.6006,  0.6909,  0.6807, -0.6948,\n",
      "        -0.7583, -0.6157, -0.5957,  0.6401,  0.6357,  0.4941,  0.7158, -0.4780,\n",
      "         0.0668,  0.8433,  0.7510, -0.1149,  0.5991, -0.6562,  0.7476, -0.1893,\n",
      "         0.0677,  0.8052, -0.8926,  0.6143,  0.6938,  0.5229, -0.4426, -0.5063,\n",
      "        -0.0340,  0.7095, -0.7607,  0.6895,  0.6641,  0.7559, -0.8184,  0.5039,\n",
      "         0.5181, -0.3987, -0.7861,  0.5078, -0.5908,  0.0447,  0.5054, -0.7988,\n",
      "        -0.7461,  0.6885, -0.6641,  0.6250, -0.4717,  0.4785,  0.7129, -0.6133,\n",
      "        -0.6436,  0.6777, -0.6895,  0.4927,  0.5176, -0.3005, -0.5552,  0.4189,\n",
      "        -0.3745, -0.7432,  0.6396, -0.4956,  0.4016,  0.6348, -0.7480,  0.3020,\n",
      "        -0.7480, -0.7236, -0.7832,  0.7646, -0.5659,  0.4617,  0.5737,  0.7949,\n",
      "        -0.8228,  0.6982,  0.4316,  0.5161, -0.6763,  0.9048, -0.2825, -0.7266,\n",
      "        -0.8184,  0.5938,  0.2803, -0.7393,  0.3357,  0.5483, -0.5371,  0.7354,\n",
      "        -0.5054, -0.4341,  0.2949, -0.5864,  0.5771, -0.4604,  0.6182,  0.0849,\n",
      "        -0.4521,  0.7583,  0.7627, -0.0244,  0.1026,  0.3955,  0.4192, -0.7261,\n",
      "         0.6074,  0.6460, -0.7900, -0.3142, -0.7109, -0.7856, -0.5278, -0.5522,\n",
      "        -0.7515,  0.2220,  0.7866, -0.5972, -0.7012, -0.7012,  0.4565, -0.0637,\n",
      "         0.5654,  0.6235,  0.7563, -0.5786,  0.5459,  0.6201,  0.7832,  0.5049,\n",
      "         0.2617, -0.5625, -0.4763, -0.2769,  0.5200,  0.7656, -0.5669, -0.7686,\n",
      "         0.0330,  0.0823,  0.6182, -0.5786,  0.5459,  0.4724,  0.7256,  0.2043,\n",
      "         0.6138, -0.5146, -0.5786, -0.5254,  0.1212,  0.5537,  0.6455, -0.8745,\n",
      "         0.5435,  0.3879,  0.7212,  0.6221,  0.6777,  0.5791, -0.1279,  0.6382,\n",
      "         0.6416, -0.5239, -0.6660, -0.4856,  0.7153,  0.4082,  0.8057, -0.7358,\n",
      "         0.3752,  0.7617,  0.7290, -0.5200, -0.5146, -0.1396,  0.6953,  0.6431,\n",
      "         0.3452, -0.2205,  0.8013, -0.6753,  0.0700, -0.7979, -0.5981, -0.5190,\n",
      "        -0.6895, -0.6323,  0.4456, -0.3335, -0.6440, -0.6484,  0.5601,  0.4587,\n",
      "        -0.5303,  0.4495, -0.5293,  0.1858, -0.6763, -0.3513, -0.3889,  0.3037,\n",
      "         0.8081,  0.8442, -0.4897,  0.4985, -0.6890, -0.5088,  0.5503,  0.3074,\n",
      "         0.0429,  0.4807, -0.6216, -0.7539, -0.6270,  0.6924,  0.5933, -0.6294,\n",
      "         0.7397, -0.2910,  0.5425,  0.6094, -0.5596,  0.8794,  0.5972, -0.6875,\n",
      "         0.7354,  0.5469, -0.7788,  0.4719, -0.5474,  0.2825,  0.5498, -0.5615,\n",
      "        -0.5273, -0.4678,  0.8184,  0.7202,  0.5093,  0.2603,  0.8057, -0.7334,\n",
      "         0.4014, -0.6006,  0.5063,  0.4216, -0.6812,  0.7715, -0.2039, -0.6338,\n",
      "         0.6113,  0.2737, -0.2905,  0.7554,  0.5171, -0.8574, -0.7100,  0.8091,\n",
      "         0.8638,  0.6250, -0.6890, -0.7363,  0.2617, -0.5728, -0.5625,  0.4270,\n",
      "        -0.6323,  0.8105, -0.3921,  0.5752,  0.8164,  0.7368,  0.5581,  0.6260],\n",
      "       device='cuda:0', dtype=torch.float16)}\n",
      "Sample sequence 2 prediction: {'predictions': '0', 'logits': tensor([1.0000e+00, 1.1981e-05], device='cuda:0', dtype=torch.float16), 'confidence': tensor(1., device='cuda:0', dtype=torch.float16), 'last_hidden_state': tensor([-0.4395,  0.8105, -0.4260, -0.6431,  0.3875, -0.2974, -0.7275, -0.4290,\n",
      "        -0.5825,  0.6196,  0.3040,  0.4397,  0.0499, -0.2695, -0.6255, -0.1715,\n",
      "        -0.3271,  0.5962,  0.4849, -0.7412, -0.3738, -0.4695, -0.4563, -0.5142,\n",
      "        -0.7734, -0.4097, -0.8125,  0.4417, -0.7627, -0.7192, -0.6519,  0.6523,\n",
      "         0.6675, -0.5029,  0.5581,  0.7891, -0.7056, -0.6777, -0.6396,  0.5190,\n",
      "        -0.6777, -0.7764, -0.7139,  0.2157,  0.6001, -0.5449, -0.7246,  0.6309,\n",
      "         0.1654,  0.6533, -0.8237, -0.7764, -0.3845, -0.4341, -0.3542,  0.5488,\n",
      "        -0.3594, -0.5366,  0.2332,  0.5283,  0.7217,  0.6743,  0.2834,  0.5303,\n",
      "        -0.5845, -0.3086, -0.5435,  0.7354, -0.7354,  0.7031, -0.6055, -0.4753,\n",
      "        -0.2507, -0.5156, -0.9102, -0.5781, -0.6196, -0.0197, -0.1707, -0.4771,\n",
      "         0.1399, -0.8428, -0.7788, -0.7656,  0.4133, -0.5908, -0.3479,  0.7451,\n",
      "         0.5669, -0.8125, -0.7227,  0.6323,  0.4319,  0.6382,  0.7671, -0.1649,\n",
      "        -0.7422,  0.7715,  0.7500, -0.7920,  0.3889,  0.4890,  0.7314,  0.5073,\n",
      "         0.1061,  0.5972,  0.4387,  0.4436,  0.6592, -0.5171,  0.1493,  0.6411,\n",
      "        -0.7656,  0.4814, -0.6138,  0.0282,  0.1481, -0.5996, -0.1652,  0.5596,\n",
      "         0.7251, -0.5459,  0.8545,  0.7349,  0.0138, -0.2722,  0.5391,  0.6665,\n",
      "        -0.7920,  0.7158,  0.7432, -0.5034,  0.4023,  0.6289,  0.6182, -0.0790,\n",
      "        -0.5776,  0.4998,  0.4587,  0.5146, -0.3230, -0.4387, -0.4976, -0.5820,\n",
      "         0.4429,  0.0577,  0.4275,  0.3242,  0.7295,  0.4812, -0.5752, -0.4929,\n",
      "        -0.1586, -0.5132,  0.6025,  0.1212, -0.6523,  0.0163,  0.6382,  0.4006,\n",
      "        -0.6294,  0.6440, -0.6343,  0.3118,  0.3403, -0.3508, -0.6226, -0.6938,\n",
      "         0.7002, -0.0820, -0.2622, -0.7349, -0.7529, -0.2983,  0.4373,  0.0263,\n",
      "        -0.0491, -0.3916, -0.6997,  0.5142,  0.2607,  0.7212,  0.5415,  0.7539,\n",
      "         0.5259,  0.3884, -0.4583,  0.6274,  0.7539, -0.6040, -0.4912, -0.4941,\n",
      "         0.4167, -0.5786, -0.3792, -0.6753,  0.5444,  0.3064,  0.5757, -0.7876,\n",
      "         0.5879, -0.5830,  0.7300,  0.5952,  0.6475,  0.7607, -0.7188,  0.7368,\n",
      "        -0.3328,  0.1914,  0.6816,  0.6504,  0.0529, -0.3899, -0.1677, -0.8271,\n",
      "        -0.6411, -0.5796, -0.3293,  0.7891, -0.2192, -0.7056,  0.2649, -0.7217,\n",
      "         0.5215, -0.0671, -0.4170, -0.3384,  0.3552,  0.6348, -0.7012, -0.0710,\n",
      "        -0.6865, -0.5669,  0.1263, -0.8203, -0.5034,  0.8042,  0.6899,  0.5166,\n",
      "        -0.7856,  0.1973, -0.6831, -0.0272, -0.5967,  0.5449,  0.5430, -0.5239,\n",
      "        -0.7397,  0.3318, -0.8594,  0.8359, -0.4949,  0.5591, -0.4746, -0.5444,\n",
      "         0.3540, -0.5132, -0.6738, -0.6011, -0.6621, -0.7529,  0.5518,  0.1267,\n",
      "         0.5542, -0.7056,  0.0171, -0.7148, -0.6836,  0.3818, -0.5581,  0.4744,\n",
      "        -0.5298,  0.4028,  0.6719, -0.3606,  0.1052,  0.6084,  0.5835,  0.7056,\n",
      "         0.6401, -0.6724,  0.7051, -0.5684, -0.5552,  0.4827, -0.5767, -0.7388,\n",
      "         0.4458, -0.6836, -0.5098, -0.5361, -0.0832,  0.5049,  0.7422, -0.5757,\n",
      "         0.4204,  0.5439,  0.4595, -0.5845, -0.4644, -0.0569,  0.4382,  0.6089,\n",
      "        -0.7241, -0.3909,  0.5557,  0.5518,  0.4763,  0.6997,  0.6934,  0.3037,\n",
      "         0.8506,  0.6089,  0.5698,  0.5034, -0.6738,  0.5449,  0.5430,  0.6763,\n",
      "        -0.6221, -0.7363, -0.4773,  0.7036, -0.7695,  0.4211,  0.1395,  0.7261,\n",
      "         0.7690,  0.1947, -0.4834, -0.7349,  0.6401,  0.4937, -0.5449,  0.1937,\n",
      "         0.5454, -0.3894,  0.5469, -0.5449, -0.6060, -0.2233,  0.3455,  0.7378,\n",
      "        -0.6147,  0.3042,  0.5830,  0.6323, -0.6943,  0.6147, -0.1527, -0.6006,\n",
      "         0.0325, -0.4663,  0.2893, -0.3936, -0.2294, -0.4326,  0.3296,  0.7188,\n",
      "        -0.6426,  0.7231,  0.3374, -0.5449, -0.5200, -0.7129,  0.4788,  0.3833,\n",
      "         0.4395,  0.3010,  0.3889, -0.0077,  0.5186,  0.7295,  0.5176,  0.5029,\n",
      "         0.0304,  0.2440, -0.7466,  0.0942,  0.6675,  0.6025,  0.7490,  0.3684,\n",
      "         0.6851, -0.6221, -0.6377,  0.1194, -0.5518,  0.1616, -0.5269, -0.1146,\n",
      "         0.6841,  0.5400,  0.3931, -0.7520,  0.7075,  0.3752,  0.7017,  0.6440,\n",
      "        -0.3735, -0.7036, -0.6987, -0.8125, -0.5166,  0.4900, -0.5562, -0.8315,\n",
      "         0.2203,  0.6245,  0.5806,  0.5522,  0.3203, -0.6646, -0.4851, -0.5557,\n",
      "         0.5918, -0.5688,  0.5361,  0.8315,  0.6133,  0.4504,  0.6011, -0.6392,\n",
      "         0.0060, -0.8228, -0.7139, -0.1847, -0.6025,  0.3960, -0.2386,  0.2445,\n",
      "         0.5000,  0.6187,  0.2959, -0.7021,  0.4792,  0.1893,  0.6055,  0.0693,\n",
      "         0.6226, -0.6382,  0.5308, -0.5386, -0.3745, -0.6890, -0.7051,  0.5527,\n",
      "         0.7603,  0.5903,  0.5435, -0.6318, -0.5806, -0.5132, -0.5381,  0.2957,\n",
      "        -0.0665, -0.8223, -0.7446,  0.2666, -0.5381,  0.5322, -0.7041,  0.0878,\n",
      "         0.0163, -0.7139,  0.8701, -0.5615, -0.6470, -0.5635,  0.0507,  0.4785,\n",
      "         0.1350, -0.6465,  0.5327, -0.6665, -0.6538, -0.6924,  0.7051, -0.0024,\n",
      "        -0.4695,  0.4702,  0.8535, -0.6797,  0.6182, -0.0068, -0.4224,  0.6709,\n",
      "         0.6733, -0.6606,  0.6362, -0.4326,  0.5752, -0.3416, -0.5635,  0.2683,\n",
      "         0.5449, -0.6689,  0.5903, -0.7036, -0.4404,  0.5317,  0.4890, -0.4614,\n",
      "         0.3779,  0.6328, -0.7104,  0.4294, -0.5625, -0.6870,  0.6357, -0.2524,\n",
      "         0.7910,  0.5991,  0.6602, -0.6885,  0.3904, -0.5049, -0.5366, -0.8447,\n",
      "         0.7344, -0.6411, -0.3252, -0.2100,  0.4275, -0.8672,  0.5366,  0.5239,\n",
      "         0.7993, -0.6255, -0.0532,  0.5771, -0.2213, -0.3108,  0.3787, -0.5835,\n",
      "         0.6626,  0.3357, -0.2393,  0.5371, -0.5410,  0.5049, -0.4949,  0.0455,\n",
      "         0.5532, -0.5972, -0.6694, -0.0089, -0.1962, -0.5283, -0.1552,  0.6621,\n",
      "        -0.5957, -0.4922,  0.7285,  0.3406,  0.7041,  0.6948,  0.4041,  0.5645,\n",
      "         0.7388, -0.0071, -0.6387,  0.5259,  0.5854,  0.4897, -0.3547,  0.0953,\n",
      "        -0.3896, -0.3911, -0.5728,  0.6143, -0.4685, -0.7280, -0.7183, -0.6938,\n",
      "        -0.2469,  0.3037,  0.4492,  0.2056, -0.2073, -0.6958,  0.6157,  0.7178,\n",
      "        -0.1450, -0.1442, -0.4812,  0.5293, -0.5742, -0.5698, -0.6602, -0.1617,\n",
      "        -0.4897,  0.3171,  0.5459,  0.4746, -0.5278, -0.3347, -0.5190,  0.7822,\n",
      "        -0.4709, -0.3608, -0.6172, -0.4089, -0.5020, -0.1354,  0.0865, -0.6074,\n",
      "        -0.6411,  0.6050,  0.6533,  0.6533, -0.6655, -0.6025, -0.6616,  0.6929,\n",
      "        -0.4863, -0.5220, -0.5674,  0.6743,  0.2698,  0.3054, -0.7710, -0.5542,\n",
      "        -0.3020,  0.2173, -0.7646,  0.6729, -0.1865,  0.7383,  0.6226,  0.2852,\n",
      "         0.4353,  0.4958, -0.6406,  0.3137,  0.5127,  0.4578, -0.5308, -0.5425,\n",
      "         0.6099, -0.4985,  0.4182, -0.0892,  0.6606,  0.3083,  0.5352, -0.5205,\n",
      "        -0.8467, -0.7349,  0.5737, -0.5854,  0.3389,  0.6587, -0.6318, -0.4678,\n",
      "        -0.4792, -0.6235,  0.6445,  0.7275,  0.6045, -0.8057, -0.4045,  0.6870,\n",
      "        -0.5762,  0.4023, -0.3042, -0.6226,  0.6323, -0.7725, -0.6807,  0.4851,\n",
      "        -0.7178, -0.4587,  0.7427, -0.5024,  0.5679, -0.1832, -0.5205,  0.1959,\n",
      "         0.0732,  0.1888, -0.5371, -0.5083, -0.5708,  0.0300, -0.6904,  0.6782,\n",
      "        -0.1991,  0.5605, -0.3767, -0.3496,  0.7568, -0.5747,  0.2896,  0.4495,\n",
      "        -0.5771, -0.3645,  0.5278, -0.6240, -0.5024,  0.9048,  0.5557, -0.6519,\n",
      "        -0.8164, -0.5449,  0.3096,  0.5498, -0.4968,  0.7490,  0.5835, -0.6294,\n",
      "         0.4746, -0.7305,  0.0071, -0.6846, -0.8501, -0.7432, -0.3931, -0.6382],\n",
      "       device='cuda:0', dtype=torch.float16)}\n"
     ]
    }
   ],
   "execution_count": 4
  },
  {
   "metadata": {},
   "cell_type": "markdown",
   "source": [
    "## 6. Visualization\n",
    "\n",
    "In this section, we visualize validation metrics across epochs to assess learning dynamics.\n",
    "\n",
    "### Plot Validation Curves\n",
    "We plot macro F1 across epochs. Additional metrics (e.g., MCC) can be added if enabled in `utils.py` or dataset config.\n"
   ],
   "id": "10df7a1e8c5c29a3"
  },
  {
   "metadata": {
    "ExecuteTime": {
     "end_time": "2025-09-11T16:15:35.211913Z",
     "start_time": "2025-09-11T16:15:35.199731Z"
    }
   },
   "cell_type": "code",
   "source": [
    "# Results Overview — Quick summary of metrics\n",
    "if metrics.get('valid'):\n",
    "\tprint('Validation (last epoch):')\n",
    "\tfor k, v in metrics['valid'][-1].items():\n",
    "\t\tprint(f\"{k}: {v:.4f}\")\n",
    "\n",
    "if metrics.get('test'):\n",
    "\tprint('\\nTest (best checkpoint):')\n",
    "\tfor k, v in metrics['test'][-1].items():\n",
    "\t\tprint(f\"{k}: {v:.4f}\")\n"
   ],
   "id": "d7da5f9f72240be1",
   "outputs": [
    {
     "name": "stdout",
     "output_type": "stream",
     "text": [
      "Validation (last epoch):\n",
      "f1_score: 0.7153\n",
      "\n",
      "Test (best checkpoint):\n",
      "f1_score: 0.7363\n"
     ]
    }
   ],
   "execution_count": 7
  },
  {
   "metadata": {
    "ExecuteTime": {
     "end_time": "2025-09-11T16:15:35.492896Z",
     "start_time": "2025-09-11T16:15:35.220531Z"
    }
   },
   "cell_type": "code",
   "source": [
    "# Visualization — Plot validation curve\n",
    "valid_key = 'valid' if 'valid' in metrics else ('eval' if 'eval' in metrics else None)\n",
    "if valid_key is None:\n",
    "\tprint(\"No validation metrics found for plotting.\")\n",
    "else:\n",
    "\tvalid_df = pd.DataFrame(metrics[valid_key])\n",
    "\tplt.style.use('seaborn-v0_8-whitegrid')\n",
    "\tfig, ax = plt.subplots(1, 1, figsize=(7, 5))\n",
    "\tif 'f1_score' in valid_df.columns:\n",
    "\t\tsns.lineplot(data=valid_df, x=valid_df.index, y='f1_score', ax=ax, label='Validation F1 (Macro)')\n",
    "\t\tax.set_ylabel('F1 Score')\n",
    "\telif 'matthews_corrcoef' in valid_df.columns:\n",
    "\t\tsns.lineplot(data=valid_df, x=valid_df.index, y='matthews_corrcoef', ax=ax, label='Validation MCC')\n",
    "\t\tax.set_ylabel('MCC')\n",
    "\telse:\n",
    "\t\tfirst_col = [c for c in valid_df.columns if isinstance(valid_df[c].iloc[-1], (int, float))]\n",
    "\t\tif first_col:\n",
    "\t\t\tsns.lineplot(data=valid_df, x=valid_df.index, y=first_col[0], ax=ax, label=first_col[0])\n",
    "\t\t\tax.set_ylabel(first_col[0])\n",
    "\t\telse:\n",
    "\t\t\tprint(\"Validation metrics exist but no numeric columns to plot.\")\n",
    "\tax.set_title('Validation Metric across Epochs')\n",
    "\tax.set_xlabel('Epoch')\n",
    "\tax.legend()\n",
    "\tplt.tight_layout()\n",
    "\tplt.show()"
   ],
   "id": "8c1f58a326b90338",
   "outputs": [
    {
     "data": {
      "text/plain": [
       "<Figure size 700x500 with 1 Axes>"
      ],
      "image/png": "[encoded data removed]"
     },
     "metadata": {},
     "output_type": "display_data",
     "jetTransient": {
      "display_id": null
     }
    }
   ],
   "execution_count": 8
  },
  {
   "metadata": {},
   "cell_type": "markdown",
   "source": [
    "## References\n",
    "\n",
    "- PlantRNA-FM: \"An interpretable RNA foundation model for exploring functional RNA motifs in plants\" (Nature Machine Intelligence, 2024).\n"
   ],
   "id": "f03109d6a613f0a"
  }
 ],
 "metadata": {
  "kernelspec": {
   "display_name": "Python 3",
   "language": "python",
   "name": "python3"
  },
  "language_info": {
   "name": "python",
   "pygments_lexer": "ipython3"
  },
  "orig_nbformat": 4
 },
 "nbformat": 4,
 "nbformat_minor": 5
}
