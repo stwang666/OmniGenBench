{
 "cells": [
  {
   "cell_type": "markdown",
   "id": "cb8791301d129bc3",
   "metadata": {
    "collapsed": false,
    "jupyter": {
     "outputs_hidden": false
    }
   },
   "source": [
    "# OmniGenome - A Demonstration based on RNA Secondary Structure Prediction\n",
    "GitHub: https://github.com/yangheng95/OmniGenome\n",
    "OmniGenome Hub: Huggingface Spaces"
   ]
  },
  {
   "cell_type": "markdown",
   "id": "e6ba6af13c774056",
   "metadata": {
    "collapsed": false,
    "jupyter": {
     "outputs_hidden": false
    }
   },
   "source": [
    "## Introduction\n",
    "OmniGenome is a comprehensive package designed for pretrained genomic foundation models (FMs) development and FM benchmark. \n",
    "OmniGenome have the following key features:\n",
    "- Automated genomic FM benchmarking on public genomic datasets\n",
    "- Scalable genomic FM training and fine-tuning on genomic tasks\n",
    "- Diversified genomic FMs implementation\n",
    "- Easy-to-use pipeline for genomic FM development with no coding expertise required\n",
    "- Accessible OmniGenome Hub for sharing FMs, datasets, and pipelines\n",
    "- Extensive documentation and tutorials for genomic FM development\n",
    "\n",
    "We begin to introduce OmniGenome by delivering a demonstration to train a model to predict RNA secondary structures. The dataset used in this demonstration is the bpRNA dataset which contains RNA sequences and their corresponding secondary structures. The secondary structure of an RNA sequence is a set of base pairs that describe the folding of the RNA molecule. The secondary structure of an RNA sequence is important for understanding the function of the RNA molecule. In this demonstration, we will train a model to predict the secondary structure of an RNA sequence given its primary sequence."
   ]
  },
  {
   "cell_type": "markdown",
   "id": "d27e521782ae2e1",
   "metadata": {
    "collapsed": false,
    "jupyter": {
     "outputs_hidden": false
    }
   },
   "source": [
    "## Requirements\n",
    "OmniGenome requires the following recommended dependencies:\n",
    "- Python 3.9+\n",
    "- PyTorch 2.0.0+\n",
    "- Transformers 4.37.0+\n",
    "- Pandas 1.3.3+\n",
    "- Others in case of specific tasks"
   ]
  },
  {
   "cell_type": "markdown",
   "id": "088128bb-9047-4805-ba69-87d429075428",
   "metadata": {},
   "source": [
    "pip install OmniGenome\n"
   ]
  },
  {
   "cell_type": "markdown",
   "id": "3c9549d261227cd9",
   "metadata": {
    "collapsed": false,
    "jupyter": {
     "outputs_hidden": false
    }
   },
   "source": [
    "## Fine-tuning Genomic FMs for RNA Secondary Structure Prediction"
   ]
  },
  {
   "cell_type": "markdown",
   "id": "663dd5c83138b645",
   "metadata": {
    "collapsed": false,
    "jupyter": {
     "outputs_hidden": false
    }
   },
   "source": [
    "### Step 1: Import Libraries"
   ]
  },
  {
   "cell_type": "code",
   "execution_count": null,
   "id": "31e09f6f0aba8259",
   "metadata": {},
   "outputs": [],
   "source": [
    "import os\n",
    "\n",
    "import autocuda\n",
    "import torch\n",
    "from metric_visualizer import MetricVisualizer\n",
    "\n",
    "from omnigenbench import OmniDatasetForTokenClassification\n",
    "from omnigenbench import ClassificationMetric\n",
    "from omnigenbench import OmniSingleNucleotideTokenizer, OmniKmersTokenizer\n",
    "from omnigenbench import OmniModelForTokenClassification\n",
    "from omnigenbench import Trainer"
   ]
  },
  {
   "cell_type": "markdown",
   "id": "af3c6a658f4e9d25",
   "metadata": {},
   "source": [
    "### Step 2: Define and Initialize the Tokenizer"
   ]
  },
  {
   "cell_type": "code",
   "execution_count": null,
   "id": "7954f47d5fd6efcc",
   "metadata": {},
   "outputs": [],
   "source": [
    "# Predefined dataset label mapping\n",
    "label2id = {\"(\": 0, \")\": 1, \".\": 2}\n",
    "\n",
    "# The is FM is exclusively powered by the OmniGenome package\n",
    "model_name_or_path = \"anonymous8/OmniGenome-186M\"\n",
    "\n",
    "# Generally, we use the tokenizers from transformers library, such as AutoTokenizer\n",
    "# tokenizer = AutoTokenizer.from_pretrained(model_name_or_path)\n",
    "\n",
    "# However, OmniGenome provides specialized tokenizers for genomic data, such as single nucleotide tokenizer and k-mers tokenizer\n",
    "# we can force the tokenizer to be used in the model\n",
    "tokenizer = OmniSingleNucleotideTokenizer.from_pretrained(model_name_or_path)"
   ]
  },
  {
   "cell_type": "markdown",
   "id": "1c202088458b13a",
   "metadata": {},
   "source": [
    "### Step 3: Define and Initialize the Model"
   ]
  },
  {
   "cell_type": "code",
   "execution_count": null,
   "id": "bad2dca11b33c489",
   "metadata": {},
   "outputs": [],
   "source": [
    "# We have implemented a diverse set of genomic models in OmniGenome, please refer to the documentation for more details\n",
    "ssp_model = OmniModelForTokenClassification(\n",
    "    model_name_or_path,\n",
    "    tokenizer=tokenizer,\n",
    "    label2id=label2id,\n",
    ")"
   ]
  },
  {
   "cell_type": "markdown",
   "id": "1409aa882be2346e",
   "metadata": {},
   "source": [
    "### Step 4: Define and Load the Dataset"
   ]
  },
  {
   "cell_type": "code",
   "execution_count": null,
   "id": "6e3ab2e5c99e8f6",
   "metadata": {},
   "outputs": [],
   "source": [
    "# necessary hyperparameters\n",
    "epochs = 10\n",
    "learning_rate = 2e-5\n",
    "weight_decay = 1e-5\n",
    "batch_size = 8\n",
    "max_length = 512\n",
    "seeds = [45]  # Each seed will be used for one run\n",
    "\n",
    "\n",
    "# Load the dataset according to the path\n",
    "train_file = \"toy_datasets/Archive2/train.json\"\n",
    "test_file = \"toy_datasets/Archive2/test.json\"\n",
    "valid_file = \"toy_datasets/Archive2/valid.json\"\n",
    "\n",
    "train_set = OmniDatasetForTokenClassification(\n",
    "    data_source=train_file,\n",
    "    tokenizer=tokenizer,\n",
    "    label2id=label2id,\n",
    "    max_length=max_length,\n",
    ")\n",
    "test_set = OmniDatasetForTokenClassification(\n",
    "    data_source=test_file,\n",
    "    tokenizer=tokenizer,\n",
    "    label2id=label2id,\n",
    "    max_length=max_length,\n",
    ")\n",
    "valid_set = OmniDatasetForTokenClassification(\n",
    "    data_source=valid_file,\n",
    "    tokenizer=tokenizer,\n",
    "    label2id=label2id,\n",
    "    max_length=max_length,\n",
    ")\n",
    "train_loader = torch.utils.data.DataLoader(\n",
    "    train_set, batch_size=batch_size, shuffle=True\n",
    ")\n",
    "valid_loader = torch.utils.data.DataLoader(valid_set, batch_size=batch_size)\n",
    "test_loader = torch.utils.data.DataLoader(test_set, batch_size=batch_size)"
   ]
  },
  {
   "cell_type": "markdown",
   "id": "f8808360e1752979",
   "metadata": {},
   "source": [
    "### Step 5: Define the Metrics\n",
    "We have implemented a diverse set of genomic metrics in OmniGenome, please refer to the documentation for more details.\n",
    "Users can also define their own metrics by inheriting the `OmniGenomeMetric` class. \n",
    "The `compute_metrics` can be a metric function list and each metric function should return a dictionary of metrics."
   ]
  },
  {
   "cell_type": "code",
   "execution_count": null,
   "id": "375810efb5e6eede",
   "metadata": {},
   "outputs": [],
   "source": [
    "compute_metrics = [\n",
    "    ClassificationMetric(ignore_y=-100).accuracy_score,\n",
    "    ClassificationMetric(ignore_y=-100, average=\"macro\").f1_score,\n",
    "    ClassificationMetric(ignore_y=-100).matthews_corrcoef,\n",
    "]\n"
   ]
  },
  {
   "cell_type": "markdown",
   "id": "74f1602135f01cea",
   "metadata": {},
   "source": [
    "## Step 6: Define and Initialize the Trainer"
   ]
  },
  {
   "cell_type": "code",
   "execution_count": null,
   "id": "16be1878e8f0dff6",
   "metadata": {},
   "outputs": [],
   "source": [
    "# Initialize the MetricVisualizer for logging the metrics\n",
    "mv = MetricVisualizer(name=\"OmniGenome-186M-SSP\")\n",
    "\n",
    "for seed in seeds:\n",
    "    optimizer = torch.optim.AdamW(\n",
    "        ssp_model.parameters(), lr=learning_rate, weight_decay=weight_decay\n",
    "    )\n",
    "    trainer = Trainer(\n",
    "        model=ssp_model,\n",
    "        train_loader=train_loader,\n",
    "        eval_loader=valid_loader,\n",
    "        test_loader=test_loader,\n",
    "        batch_size=batch_size,\n",
    "        epochs=epochs,\n",
    "        optimizer=optimizer,\n",
    "        compute_metrics=compute_metrics,\n",
    "        seeds=seed,\n",
    "        device=autocuda.auto_cuda(),\n",
    "    )\n",
    "\n",
    "    metrics = trainer.train()\n",
    "    test_metrics = metrics[\"test\"][-1]\n",
    "    mv.log(model_name_or_path.split(\"/\")[-1], \"F1\", test_metrics[\"f1_score\"])\n",
    "    mv.log(\n",
    "        model_name_or_path.split(\"/\")[-1],\n",
    "        \"Accuracy\",\n",
    "        test_metrics[\"accuracy_score\"],\n",
    "    )\n",
    "    print(metrics)\n",
    "    mv.summary()"
   ]
  },
  {
   "cell_type": "markdown",
   "id": "80f9d939ad04d3d3",
   "metadata": {},
   "source": [
    "### Step 7. Experimental Results Visualization\n",
    "The experimental results are visualized in the following plots. The plots show the F1 score and accuracy of the model on the test set for each run. The average F1 score and accuracy are also shown."
   ]
  },
  {
   "cell_type": "markdown",
   "id": "411779ce1d94a3b4",
   "metadata": {},
   "source": [
    "|### Step 8. Model Checkpoint for Sharing\n",
    "The model checkpoint can be saved and shared with others for further use. The model checkpoint can be loaded using the following code:"
   ]
  },
  {
   "cell_type": "markdown",
   "id": "797f20132e7f718e",
   "metadata": {},
   "source": [
    "**Regular checkpointing and resuming are good practices to save the model at different stages of training.**"
   ]
  },
  {
   "cell_type": "code",
   "execution_count": null,
   "id": "5971417775b7514",
   "metadata": {},
   "outputs": [],
   "source": [
    "path_to_save = \"OmniGenome-186M-SSP\"\n",
    "ssp_model.save(path_to_save, overwrite=True)\n",
    "\n",
    "# Load the model checkpoint\n",
    "ssp_model = ssp_model.load(path_to_save)\n",
    "results = ssp_model.inference(\"CAGUGCCGAGGCCACGCGGAGAACGAUCGAGGGUACAGCACUA\")\n",
    "print(results[\"predictions\"])\n",
    "print(\"logits:\", results[\"logits\"])"
   ]
  },
  {
   "cell_type": "markdown",
   "id": "f89fc90a640f1c9c",
   "metadata": {},
   "source": [
    "\n",
    "# What if someone doesn't know how to initialize the model?"
   ]
  },
  {
   "cell_type": "code",
   "execution_count": null,
   "id": "455d97e170b40545",
   "metadata": {},
   "outputs": [],
   "source": [
    "# We can load the model checkpoint using the ModelHub\n",
    "from omnigenbench import ModelHub\n",
    "\n",
    "ssp_model = ModelHub.load(\"OmniGenome-186M-SSP\")\n",
    "results = ssp_model.inference(\"CAGUGCCGAGGCCACGCGGAGAACGAUCGAGGGUACAGCACUA\")\n",
    "print(results[\"predictions\"])\n",
    "print(\"logits:\", results[\"logits\"])"
   ]
  },
  {
   "cell_type": "markdown",
   "id": "2745a1cb163bf97e",
   "metadata": {},
   "source": [
    "## Step 8. Model Inference"
   ]
  },
  {
   "cell_type": "code",
   "execution_count": null,
   "id": "bef65afa41389009",
   "metadata": {},
   "outputs": [],
   "source": [
    "examples = [\n",
    "    \"GCUGGGAUGUUGGCUUAGAAGCAGCCAUCAUUUAAAGAGUGCGUAACAGCUCACCAGC\",\n",
    "    \"AUCUGUACUAGUUAGCUAACUAGAUCUGUAUCUGGCGGUUCCGUGGAAGAACUGACGUGUUCAUAUUCCCGACCGCAGCCCUGGGAGACGUCUCAGAGGC\",\n",
    "]\n",
    "\n",
    "results = ssp_model.inference(examples)\n",
    "structures = [\"\".join(prediction) for prediction in results[\"predictions\"]]\n",
    "print(results)\n",
    "print(structures)"
   ]
  },
  {
   "cell_type": "markdown",
   "id": "71824866c06624d6",
   "metadata": {},
   "source": [
    "### Step 9. Pipeline Creation\n",
    "The OmniGenome package provides pipelines for genomic FM development. The pipeline can be used to train, fine-tune, and evaluate genomic FMs. The pipeline can be used with a single command to train a genomic FM on a dataset. The pipeline can also be used to fine-tune a pre-trained genomic FM on a new dataset. The pipeline can be used to evaluate the performance of a genomic FM on a dataset. The pipeline can be used to generate predictions using a genomic FM."
   ]
  },
  {
   "cell_type": "code",
   "execution_count": null,
   "id": "bbc88f2dfc670b2",
   "metadata": {},
   "outputs": [],
   "source": [
    "# from omnigenbench import Pipeline, PipelineHub\n",
    "# \n",
    "# pipeline = Pipeline(\n",
    "#     name=\"OmniGenome-186M-SSP-Pipeline\",\n",
    "#     # model_name_or_path=\"OmniGenome-186M-SSP\",  # The model name or path can be specified\n",
    "#     # tokenizer=\"OmniGenome-186M-SSP\",  # The tokenizer can be specified\n",
    "#     model_name_or_path=ssp_model,\n",
    "#     tokenizer=ssp_model.tokenizer,\n",
    "#     datasets={\n",
    "#         \"train\": \"toy_datasets/train.json\",\n",
    "#         \"test\": \"toy_datasets/test.json\",\n",
    "#         \"valid\": \"toy_datasets/valid.json\",\n",
    "#     },\n",
    "#     trainer=trainer,\n",
    "#     device=ssp_model.model.device,\n",
    "# )"
   ]
  },
  {
   "cell_type": "markdown",
   "id": "a06e8d11d62d2cf3",
   "metadata": {},
   "source": [
    "### Using the Pipeline"
   ]
  },
  {
   "cell_type": "code",
   "execution_count": null,
   "id": "95936c1a01da3860",
   "metadata": {},
   "outputs": [],
   "source": [
    "# results = pipeline(examples[0])\n",
    "# print(results)\n",
    "# \n",
    "# pipeline.train()\n",
    "# \n",
    "# pipeline.save(\"OmniGenome-186M-SSP-Pipeline\", overwrite=True)\n",
    "# \n",
    "# pipeline = PipelineHub.load(\"OmniGenome-186M-SSP-Pipeline\")\n",
    "# results = pipeline(examples)\n",
    "# print(results)"
   ]
  },
  {
   "cell_type": "markdown",
   "id": "9525c9393726dba7",
   "metadata": {},
   "source": [
    "## Web Demo for RNA Secondary Structure Prediction"
   ]
  },
  {
   "cell_type": "code",
   "execution_count": null,
   "id": "e7ce1010318d9ff",
   "metadata": {},
   "outputs": [],
   "source": [
    "import os\n",
    "import time\n",
    "import base64\n",
    "import tempfile\n",
    "from pathlib import Path\n",
    "import json\n",
    "import numpy as np\n",
    "import gradio as gr\n",
    "import RNA\n",
    "from omnigenbench import ModelHub\n",
    "\n",
    "# 加载模型\n",
    "ssp_model = ModelHub.load(\"OmniGenome-186M-SSP\")\n",
    "\n",
    "# 临时 SVG 存储目录\n",
    "TEMP_DIR = Path(tempfile.mkdtemp())\n",
    "print(f\"Using temporary directory: {TEMP_DIR}\")\n",
    "\n",
    "\n",
    "def ss_validity_loss(rna_strct: str) -> float:\n",
    "    left = right = 0\n",
    "    dots = rna_strct.count('.')\n",
    "    for c in rna_strct:\n",
    "        if c == '(':\n",
    "            left += 1\n",
    "        elif c == ')':\n",
    "            if left:\n",
    "                left -= 1\n",
    "            else:\n",
    "                right += 1\n",
    "        elif c != '.':\n",
    "            raise ValueError(f\"Invalid char {c}\")\n",
    "    return (left + right) / (len(rna_strct) - dots + 1e-8)\n",
    "\n",
    "\n",
    "def find_invalid_positions(struct: str) -> list:\n",
    "    stack, invalid = [], []\n",
    "    for i, c in enumerate(struct):\n",
    "        if c == '(': stack.append(i)\n",
    "        elif c == ')':\n",
    "            if stack:\n",
    "                stack.pop()\n",
    "            else:\n",
    "                invalid.append(i)\n",
    "    invalid.extend(stack)\n",
    "    return invalid\n",
    "\n",
    "\n",
    "def generate_svg_datauri(rna_seq: str, struct: str) -> str:\n",
    "    \"\"\"生成 SVG 并返回 Base64 URI\"\"\"\n",
    "    try:\n",
    "        path = TEMP_DIR / f\"{hash(rna_seq+struct)}.svg\"\n",
    "        RNA.svg_rna_plot(rna_seq, struct, str(path))\n",
    "        time.sleep(0.1)\n",
    "        svg_bytes = path.read_bytes()\n",
    "        b64 = base64.b64encode(svg_bytes).decode('utf-8')\n",
    "    except Exception as e:\n",
    "        err = ('<svg xmlns=\"http://www.w3.org/2000/svg\" width=\"400\" height=\"200\">'\n",
    "               f'<text x=\"50\" y=\"100\" fill=\"red\">Error: {e}</text></svg>')\n",
    "        b64 = base64.b64encode(err.encode()).decode('utf-8')\n",
    "    return f\"data:image/svg+xml;base64,{b64}\"\n",
    "\n",
    "\n",
    "def fold(rna_seq: str, gt_struct: str):\n",
    "    \"\"\"展示 Ground Truth、ViennaRNA 与模型预测的结构对比\"\"\"\n",
    "    if not rna_seq.strip():\n",
    "        return \"\", \"\", \"\", \"\"\n",
    "    # Ground Truth: 用户输入优先\n",
    "    ground = gt_struct.strip() if gt_struct and gt_struct.strip() else \"\"\n",
    "    gt_uri = generate_svg_datauri(rna_seq, ground) if ground else \"\"\n",
    "\n",
    "    # ViennaRNA 预测\n",
    "    vienna_struct, vienna_energy = RNA.fold(rna_seq)\n",
    "    vienna_uri = generate_svg_datauri(rna_seq, vienna_struct)\n",
    "\n",
    "    # 模型预测\n",
    "    result = ssp_model.inference(rna_seq)\n",
    "    pred = \"\".join(result.get('predictions', []))\n",
    "    if ss_validity_loss(pred):\n",
    "        for i in find_invalid_positions(pred):\n",
    "            pred = pred[:i] + '.' + pred[i+1:]\n",
    "    pred_uri = generate_svg_datauri(rna_seq, pred)\n",
    "\n",
    "    # 统计信息\n",
    "    match_gt = (sum(a==b for a,b in zip(ground, pred)) / len(ground)) if ground else 0\n",
    "    match_vienna = sum(a==b for a,b in zip(vienna_struct, pred)) / len(vienna_struct)\n",
    "    stats = (\n",
    "        f\"GT↔Pred Match: {match_gt:.2%}\" + (\" | \" if ground else \"\") +\n",
    "        f\"Vienna↔Pred Match: {match_vienna:.2%}\"\n",
    "    )\n",
    "\n",
    "    # 合并 HTML：三图水平排列\n",
    "    combined = (\n",
    "        '<div style=\"display:flex;justify-content:space-around;\">'\n",
    "        f'{f\"<div><h4>Ground Truth</h4><img src=\\\"{gt_uri}\\\" style=\\\"max-width:100%;height:auto;\\\"/></div>\" if ground else \"\"}'\n",
    "        f'<div><h4>ViennaRNA</h4><img src=\\\"{vienna_uri}\\\" style=\\\"max-width:100%;height:auto;\\\"/></div>'\n",
    "        f'<div><h4>Prediction</h4><img src=\\\"{pred_uri}\\\" style=\\\"max-width:100%;height:auto;\\\"/></div>'\n",
    "        '</div>'\n",
    "    )\n",
    "    return ground, vienna_struct, pred, stats, combined\n",
    "\n",
    "\n",
    "def sample_rna_sequence():\n",
    "    \"\"\"从测试集中抽样，返回序列与 Ground Truth 结构\"\"\"\n",
    "    try:\n",
    "        exs = [json.loads(l) for l in open('toy_datasets/Archive2/test.json')]\n",
    "        ex = exs[np.random.randint(len(exs))]\n",
    "        return ex['seq'], ex.get('label','')\n",
    "    except Exception as e:\n",
    "        return f\"加载样本出错: {e}\", \"\"\n",
    "\n",
    "# Gradio UI\n",
    "with gr.Blocks(css=\"\"\"\n",
    ".heading {text-align:center;color:#2a4365;}\n",
    ".controls {display:flex;gap:10px;margin:20px 0;}\n",
    ".status {padding:10px;background:#f0f4f8;border-radius:4px;white-space:pre;}\n",
    "\"\"\") as demo:\n",
    "    gr.Markdown(\"# RNA 结构预测对比\", elem_classes=\"heading\")\n",
    "    with gr.Row():\n",
    "        rna_input = gr.Textbox(label=\"RNA 序列\", lines=3)\n",
    "        structure_input = gr.Textbox(label=\"Ground Truth 结构 (可选)\", lines=3)\n",
    "    with gr.Row(elem_classes=\"controls\"):\n",
    "        sample_btn = gr.Button(\"抽取样本\")\n",
    "        run_btn = gr.Button(\"预测并对比\", variant=\"primary\")\n",
    "    stats_out    = gr.Textbox(label=\"统计信息\", interactive=False, elem_classes=\"status\")\n",
    "    gt_out       = gr.Textbox(label=\"Ground Truth\", interactive=False)\n",
    "    vienna_out   = gr.Textbox(label=\"ViennaRNA 结构\", interactive=False)\n",
    "    pred_out     = gr.Textbox(label=\"Prediction 结构\", interactive=False)\n",
    "    combined_view= gr.HTML(label=\"三图对比视图\")\n",
    "\n",
    "    run_btn.click(\n",
    "        fold,\n",
    "        inputs=[rna_input, structure_input],\n",
    "        outputs=[gt_out, vienna_out, pred_out, stats_out, combined_view]\n",
    "    )\n",
    "    sample_btn.click(\n",
    "        sample_rna_sequence,\n",
    "        outputs=[rna_input, structure_input]\n",
    "    )\n",
    "\n",
    "    demo.launch(share=True)\n"
   ]
  },
  {
   "cell_type": "markdown",
   "id": "e679d1a645c0d06c",
   "metadata": {},
   "source": [
    "### Conclusion\n",
    "In this demonstration, we have shown how to fine-tune a genomic foundation model for RNA secondary structure prediction using the OmniGenome package. We have also shown how to use the trained model for inference and how to create a web demo for RNA secondary structure prediction. We hope this demonstration will help you get started with genomic foundation model development using OmniGenome."
   ]
  },
  {
   "cell_type": "code",
   "execution_count": null,
   "id": "cf5705f2c9ca6913",
   "metadata": {},
   "outputs": [],
   "source": []
  }
 ],
 "metadata": {
  "kernelspec": {
   "display_name": "omni",
   "language": "python",
   "name": "python3"
  },
  "language_info": {
   "codemirror_mode": {
    "name": "ipython",
    "version": 3
   },
   "file_extension": ".py",
   "mimetype": "text/x-python",
   "name": "python",
   "nbconvert_exporter": "python",
   "pygments_lexer": "ipython3",
   "version": "3.10.18"
  }
 },
 "nbformat": 4,
 "nbformat_minor": 5
}
