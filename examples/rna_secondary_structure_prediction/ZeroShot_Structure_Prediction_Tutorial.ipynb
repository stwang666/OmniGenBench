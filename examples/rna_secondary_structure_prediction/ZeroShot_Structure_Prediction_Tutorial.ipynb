{
 "cells": [
  {
   "metadata": {},
   "cell_type": "code",
   "source": "",
   "id": "2cb8ac6ba10e48b8",
   "outputs": [],
   "execution_count": null
  },
  {
   "cell_type": "markdown",
   "id": "65220741",
   "metadata": {},
   "source": [
    "### 1. **Setting Up the Environment**\n",
    "Make sure you have the required Python packages installed. You can install them by running:\n",
    "\n",
    "```bash\n",
    "pip install torch transformers autocuda viennarna sklearn\n",
    "```\n",
    "\n",
    "We'll also be using the pre-trained `OmniGenome` model from Hugging Face for token classification. The specific model, `anonymous8/OmniGenome-186M`, is trained on RNA secondary structure prediction tasks."
   ]
  },
  {
   "cell_type": "markdown",
   "id": "e0adea72",
   "metadata": {},
   "source": [
    "### 2. **Loading the Model and Tokenizer**\n",
    "The first step is to load the pre-trained model and tokenizer for RNA secondary structure prediction."
   ]
  },
  {
   "cell_type": "code",
   "id": "d04349ce",
   "metadata": {},
   "source": [
    "import torch\n",
    "import autocuda\n",
    "from transformers import AutoModelForTokenClassification, AutoTokenizer\n",
    "\n",
    "# Load the pre-trained model for secondary structure prediction\n",
    "ssp_model = AutoModelForTokenClassification.from_pretrained(\n",
    "    \"anonymous8/OmniGenome-186M\", trust_remote_code=True\n",
    ").to(autocuda.auto_cuda())\n",
    "\n",
    "# Load the tokenizer\n",
    "tokenizer = AutoTokenizer.from_pretrained(\"anonymous8/OmniGenome-186M\")\n"
   ],
   "outputs": [],
   "execution_count": null
  },
  {
   "cell_type": "markdown",
   "id": "7db10f11",
   "metadata": {},
   "source": [
    "### 3. **Defining the Prediction Function**\n",
    "Here, we define a function `zero_shot_secondary_structure_prediction` that takes a model and an RNA sequence as input and outputs the predicted secondary structure.\n",
    "\n",
    "This function works by tokenizing the input sequence, passing it through the model, and converting the predicted tokens into secondary structure labels."
   ]
  },
  {
   "cell_type": "code",
   "id": "9f391ddb",
   "metadata": {},
   "source": [
    "device=autocuda.auto_cuda()\n",
    "\n",
    "def zero_shot_secondary_structure_prediction(model, sequence):\n",
    "    model.eval()\n",
    "    inputs = tokenizer(\n",
    "        sequence, return_tensors=\"pt\", padding=\"max_length\", truncation=True\n",
    "    ).to(device)\n",
    "    with torch.no_grad():\n",
    "        outputs = model(**inputs)\n",
    "    predictions = outputs.logits.argmax(dim=-1)[:, 1:-1]  # Skip special tokens\n",
    "    structure = [\n",
    "        model.config.id2label[prediction.item()] for prediction in predictions[0]\n",
    "    ]\n",
    "    return \"\".join(structure)"
   ],
   "outputs": [],
   "execution_count": null
  },
  {
   "cell_type": "markdown",
   "id": "af321b2b",
   "metadata": {},
   "source": [
    "### 4. **Predicting RNA Secondary Structure**\n",
    "Let's now use the function we defined to predict the secondary structure of an example RNA sequence. The sequence we're using is:\n",
    "\n",
    "`GAAAAAAAAGGGGAGAAAUCCCGCCCGAAAGGGCGCCCAAAGGGC`\n"
   ]
  },
  {
   "cell_type": "code",
   "id": "ec76d483",
   "metadata": {},
   "source": [
    "# Example RNA sequence\n",
    "sequence = \"GAAAAAAAAGGGGAGAAAUCCCGCCCGAAAGGGCGCCCAAAGGGC\"\n",
    "\n",
    "# Predict the secondary structure\n",
    "structure = zero_shot_secondary_structure_prediction(ssp_model, sequence)\n",
    "\n",
    "# The predicted structure should look something like this:\n",
    "print(\"Predicted structure:\", structure)\n",
    "# Expected output: ..........((((....))))((((....))))((((...))))"
   ],
   "outputs": [],
   "execution_count": null
  },
  {
   "cell_type": "markdown",
   "id": "aa462883",
   "metadata": {},
   "source": [
    "### 5. **Comparing with ViennaRNA**\n",
    "For comparison, you can also use the popular RNA secondary structure prediction tool `ViennaRNA`. Below is an example of how to predict the structure of the same sequence using `ViennaRNA`.\n",
    "\n",
    "You can install `ViennaRNA` by running:\n",
    "```bash\n",
    "pip install viennarna\n",
    "```\n",
    "Then, use the following code to predict the structure."
   ]
  },
  {
   "cell_type": "code",
   "id": "2dc20177",
   "metadata": {},
   "source": [
    "# Uncomment the following lines to use ViennaRNA\n",
    "# import ViennaRNA\n",
    "# print(\"ViennaRNA prediction:\", ViennaRNA.fold(sequence)[0])\n",
    "# Expected output: ..........((((....))))((((....))))((((...))))"
   ],
   "outputs": [],
   "execution_count": null
  }
 ],
 "metadata": {
  "kernelspec": {
   "display_name": "Python 3 (ipykernel)",
   "language": "python",
   "name": "python3"
  },
  "language_info": {
   "codemirror_mode": {
    "name": "ipython",
    "version": 3
   },
   "file_extension": ".py",
   "mimetype": "text/x-python",
   "name": "python",
   "nbconvert_exporter": "python",
   "pygments_lexer": "ipython3",
   "version": "3.9.18"
  }
 },
 "nbformat": 4,
 "nbformat_minor": 5
}
