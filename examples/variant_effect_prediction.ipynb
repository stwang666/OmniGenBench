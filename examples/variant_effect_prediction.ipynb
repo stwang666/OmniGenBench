{
 "cells": [
  {
   "cell_type": "markdown",
   "metadata": {},
   "source": [
    "# Variant Effect Prediction with OmniGenBench\n",
    "\n",
    "This notebook demonstrates how to use various genomic foundation models for variant effect prediction. It processes genomic variants from a BED file, uses a reference genome, and predicts the functional effects of variants using deep learning models.\n"
   ]
  },
  {
   "metadata": {},
   "cell_type": "markdown",
   "source": [
    "## Notebook Structure\n",
    "\n",
    "This notebook is organized into several sections, each focusing on a specific aspect of the Variant Effect Prediction (VEP) pipeline. Below is an overview of the structure:\n",
    "\n",
    "1. **Setup & Installation**: Ensures all required libraries and dependencies are installed.\n",
    "2. **Import Libraries**: Loads the necessary Python libraries for genomic data processing, model inference, and analysis.\n",
    "3. **Configuration**: Defines key parameters such as file paths, model selection, and batch sizes.\n",
    "4. **Core Classes and Functions**: Implements essential utilities for handling genomic data, including downloading reference genomes, applying variants, and managing annotations.\n",
    "5. **Model-Specific Embedding Functions**: Contains functions tailored to compute embeddings for different genomic foundation models.\n",
    "6. **Main Analysis Pipeline**: Orchestrates the entire VEP process, from loading data to generating predictions and calculating scores.\n",
    "7. **Execute the Analysis**: Runs the pipeline with the configured parameters and saves the results.\n",
    "8. **Results Overview**: Summarizes the results and provides basic statistics.\n",
    "9. **Visualization**: Visualizes the distribution of calculated distances to gain insights into the model's predictions.\n",
    "\n",
    "Each section is designed to be modular, allowing for easy customization and extension. Follow the notebook sequentially to understand and execute the VEP pipeline effectively."
   ]
  },
  {
   "metadata": {},
   "cell_type": "markdown",
   "source": [
    "## 1. Setup & Installation\n",
    "\n",
    "This cell contains the necessary packages for running the notebook. If you have already installed them, you can skip this step. Otherwise, uncomment and run the cell."
   ]
  },
  {
   "cell_type": "code",
   "execution_count": null,
   "metadata": {},
   "outputs": [],
   "source": [
    "# !pip install torch transformers pandas autocuda multimolecule biopython scipy scikit-learn tqdm dill findfile requests"
   ]
  },
  {
   "cell_type": "markdown",
   "metadata": {},
   "source": [
    "## 2. Import Libraries\n",
    "\n",
    "Import all the necessary libraries for genomic data processing, model inference, and analysis."
   ]
  },
  {
   "cell_type": "code",
   "metadata": {
    "ExecuteTime": {
     "end_time": "2025-07-31T15:02:30.987851Z",
     "start_time": "2025-07-31T15:02:23.358803Z"
    }
   },
   "source": [
    "import os\n",
    "import warnings\n",
    "from typing import Optional, List, Tuple\n",
    "\n",
    "import torch\n",
    "import autocuda\n",
    "import dill\n",
    "import findfile\n",
    "import numpy as np\n",
    "import pandas as pd\n",
    "from tqdm.auto import tqdm\n",
    "from scipy import spatial\n",
    "from sklearn.metrics import roc_auc_score\n",
    "from transformers import AutoTokenizer, AutoModelForMaskedLM, AutoModel\n",
    "from Bio import SeqIO\n",
    "\n",
    "warnings.filterwarnings('ignore')\n",
    "print(\"Libraries imported successfully!\")"
   ],
   "outputs": [
    {
     "name": "stderr",
     "output_type": "stream",
     "text": [
      "C:\\Users\\hengu\\miniconda3\\envs\\py312\\Lib\\site-packages\\tqdm\\auto.py:21: TqdmWarning: IProgress not found. Please update jupyter and ipywidgets. See https://ipywidgets.readthedocs.io/en/stable/user_install.html\n",
      "  from .autonotebook import tqdm as notebook_tqdm\n",
      "C:\\Users\\hengu\\miniconda3\\envs\\py312\\Lib\\site-packages\\requests\\__init__.py:86: RequestsDependencyWarning: Unable to find acceptable character detection dependency (chardet or charset_normalizer).\n",
      "  warnings.warn(\n"
     ]
    },
    {
     "name": "stdout",
     "output_type": "stream",
     "text": [
      "Libraries imported successfully!\n"
     ]
    }
   ],
   "execution_count": 1
  },
  {
   "cell_type": "markdown",
   "metadata": {},
   "source": [
    "## 3. Configuration\n",
    "\n",
    "Set up the analysis parameters, file paths, and model selection here. You can easily change the `model_name` to test different genomic foundation models."
   ]
  },
  {
   "cell_type": "code",
   "metadata": {
    "ExecuteTime": {
     "end_time": "2025-07-31T15:02:35.719815Z",
     "start_time": "2025-07-31T15:02:35.713374Z"
    }
   },
   "source": [
    "# --- Main Configuration ---\n",
    "BED_FILE = \"variant_effects_disease.bed\"  # Path to your BED file with variants\n",
    "FASTA_FILE = \"data/genomes/GRCh38.primary_assembly.genome.fa\"  # Path to reference genome\n",
    "MODEL_NAME = \"yangheng/OmniGenome-52M\"  # Model to use for predictions\n",
    "OUTPUT_FILE = \"vep_predictions.csv\"  # Base name for the output file\n",
    "CONTEXT_SIZE = 256  # Context size (in base pairs) to include on each side of the variant\n",
    "BATCH_SIZE = 16  # Batch size for model inference\n",
    "DEVICE = \"auto\"  # Device: 'auto', 'cpu', 'cuda'\n",
    "\n",
    "# --- Available Models for Testing ---\n",
    "AVAILABLE_MODELS = [\n",
    "    'yangheng/OmniGenome-52M',\n",
    "    'yangheng/OmniGenome-186M',\n",
    "    'DNABERT-2-117M',\n",
    "    'hyenadna-large-1m-seqlen-hf',\n",
    "    'InstaDeepAI/nucleotide-transformer-500m-human-ref',\n",
    "    # 'multimolecule/rnafm', # RNA-specific models\n",
    "    # 'multimolecule/rnabert',\n",
    "    # 'lnair/SpliceBERT-510nt', # Splice-specific model\n",
    "]\n",
    "\n",
    "print(f\"Configuration set:\")\n",
    "print(f\"  Model: {MODEL_NAME}\")\n",
    "print(f\"  BED file: {BED_FILE}\")\n",
    "print(f\"  Reference genome: {FASTA_FILE}\")"
   ],
   "outputs": [
    {
     "name": "stdout",
     "output_type": "stream",
     "text": [
      "Configuration set:\n",
      "  Model: yangheng/OmniGenome-52M\n",
      "  BED file: variant_effects_disease.bed\n",
      "  Reference genome: data/genomes/GRCh38.primary_assembly.genome.fa\n"
     ]
    }
   ],
   "execution_count": 2
  },
  {
   "cell_type": "markdown",
   "metadata": {},
   "source": [
    "## 4. Core Classes and Functions\n",
    "\n",
    "This section contains the core logic for handling genomic data, including downloading the reference genome, applying variants, and managing annotations."
   ]
  },
  {
   "cell_type": "code",
   "metadata": {
    "ExecuteTime": {
     "end_time": "2025-07-31T15:02:51.749750Z",
     "start_time": "2025-07-31T15:02:51.736634Z"
    }
   },
   "source": [
    "def download_ncbi_reference_genome():\n",
    "    \"\"\"Download and extract the hg38 reference genome if not found locally.\"\"\"\n",
    "    import requests\n",
    "    import gzip\n",
    "    import shutil\n",
    "\n",
    "    # Check if a reference genome already exists\n",
    "    found_genome = findfile.find_cwd_file(or_key=['hg38.fa', 'GRCh38.primary_assembly.genome.fa'], exclude_key=['.gz'])\n",
    "    if found_genome:\n",
    "        print(f\"Reference genome already exists: {found_genome}\")\n",
    "        return found_genome\n",
    "\n",
    "    url = \"http://hgdownload.soe.ucsc.edu/goldenPath/hg38/bigZips/hg38.fa.gz\"\n",
    "    fasta_path_gz = \"hg38.fa.gz\"\n",
    "    fasta_path = \"hg38.fa\"\n",
    "\n",
    "    print(f\"Downloading reference genome from {url}...\")\n",
    "    try:\n",
    "        response = requests.get(url, stream=True)\n",
    "        response.raise_for_status()\n",
    "        total_size = int(response.headers.get('content-length', 0))\n",
    "        with open(fasta_path_gz, 'wb') as f, tqdm(total=total_size, unit='B', unit_scale=True, desc=fasta_path_gz) as pbar:\n",
    "            for chunk in response.iter_content(chunk_size=8192):\n",
    "                f.write(chunk)\n",
    "                pbar.update(len(chunk))\n",
    "    except requests.RequestException as e:\n",
    "        raise Exception(f\"Failed to download reference genome: {e}\")\n",
    "\n",
    "    print(f\"Extracting {fasta_path_gz}...\")\n",
    "    with gzip.open(fasta_path_gz, 'rb') as f_in:\n",
    "        with open(fasta_path, 'wb') as f_out:\n",
    "            shutil.copyfileobj(f_in, f_out)\n",
    "\n",
    "    os.remove(fasta_path_gz)\n",
    "    print(f\"Reference genome ready at {fasta_path}\")\n",
    "    return fasta_path\n",
    "\n",
    "class Annotation:\n",
    "    \"\"\"Handles loading variant annotations and extracting DNA sequences with context.\"\"\"\n",
    "    def __init__(self, annotation_path: str, reference_genome_path: str, context_size: int):\n",
    "        self.context_size = context_size\n",
    "        self.annotation = pd.read_csv(annotation_path, sep='\\t')\n",
    "        self.annotation['orig_start'] = self.annotation['start']\n",
    "        self.annotation['orig_end'] = self.annotation['end']\n",
    "        self.annotation['variant_offset'] = self.annotation['start'] - self.annotation['orig_start']\n",
    "        \n",
    "        print(f\"Loading reference genome from {reference_genome_path}...\")\n",
    "        self.genome_dict = SeqIO.to_dict(SeqIO.parse(reference_genome_path, \"fasta\"))\n",
    "        print(f\"Loaded {len(self.genome_dict)} chromosomes.\")\n",
    "        \n",
    "        self.extend_segments()\n",
    "\n",
    "    def extend_segments(self):\n",
    "        \"\"\"Calculates new start/end coordinates to include the context window.\"\"\"\n",
    "        df = self.annotation\n",
    "        df['start'] = (df['orig_start'] - self.context_size).clip(lower=0)\n",
    "        df['end'] = df['orig_end'] + self.context_size\n",
    "        df['mutation_position'] = (df['variant_offset'] + self.context_size).astype(int)\n",
    "        self.annotation = df\n",
    "\n",
    "    def get_dna_segment(self, index: int) -> str:\n",
    "        \"\"\"Extracts a DNA segment for a given variant index.\"\"\"\n",
    "        item = self.annotation.iloc[index]\n",
    "        chrom = item.get('chromosome', item.get('chr'))\n",
    "        start, end = int(item['start']), int(item['end'])\n",
    "        \n",
    "        if chrom not in self.genome_dict:\n",
    "            # Try to match chromosome format (e.g., '1' vs 'chr1')\n",
    "            chrom_alt = f\"chr{chrom}\" if not chrom.startswith('chr') else chrom.replace('chr', '')\n",
    "            if chrom_alt in self.genome_dict:\n",
    "                chrom = chrom_alt\n",
    "            else:\n",
    "                # print(f\"Warning: Chromosome '{chrom}' not found in reference genome.\")\n",
    "                return \"\"\n",
    "        \n",
    "        seq_obj = self.genome_dict[chrom]\n",
    "        end = min(end, len(seq_obj.seq))\n",
    "        return str(seq_obj.seq[start:end]).upper()\n",
    "\n",
    "def apply_variant(sequence: str, ref_allele: str, alt_allele: str, mut_pos: int) -> str:\n",
    "    \"\"\"Applies a single nucleotide variant (SNV) to a reference sequence.\"\"\"\n",
    "    if not (len(ref_allele) == 1 and len(alt_allele) == 1):\n",
    "        return sequence # Only apply SNVs for this example\n",
    "    \n",
    "    if mut_pos < 0 or mut_pos >= len(sequence):\n",
    "        # print(f\"Warning: Mutation position {mut_pos} is out of bounds for sequence of length {len(sequence)}.\")\n",
    "        return sequence\n",
    "        \n",
    "    if sequence[mut_pos].upper() != ref_allele.upper():\n",
    "        # print(f\"Warning: Reference allele mismatch at position {mut_pos}. Expected {ref_allele}, found {sequence[mut_pos]}.\")\n",
    "        pass # Proceed with substitution anyway\n",
    "        \n",
    "    return sequence[:mut_pos] + alt_allele.upper() + sequence[mut_pos + 1:]\n",
    "\n",
    "print(\"Core classes and functions defined.\")"
   ],
   "outputs": [
    {
     "name": "stdout",
     "output_type": "stream",
     "text": [
      "Core classes and functions defined.\n"
     ]
    }
   ],
   "execution_count": 3
  },
  {
   "cell_type": "markdown",
   "metadata": {},
   "source": [
    "## 5. Model-Specific Embedding Functions\n",
    "\n",
    "This section defines the functions responsible for computing embeddings for different genomic foundation models. Each function is tailored to the specific tokenization and output structure of the model."
   ]
  },
  {
   "cell_type": "code",
   "metadata": {
    "ExecuteTime": {
     "end_time": "2025-07-31T15:03:04.131266Z",
     "start_time": "2025-07-31T15:03:04.118634Z"
    }
   },
   "source": [
    "def _tokenize(batch_seqs: List[str], tokenizer, context_len: int, device: torch.device, add_spaces: bool = False):\n",
    "    \"\"\"Unified tokenization helper.\"\"\"\n",
    "    if add_spaces:\n",
    "        batch_seqs = [' '.join(seq) for seq in batch_seqs]\n",
    "    return tokenizer(\n",
    "        batch_seqs,\n",
    "        return_tensors=\"pt\",\n",
    "        padding=\"max_length\",\n",
    "        max_length=context_len,\n",
    "        truncation=True,\n",
    "        add_special_tokens=False\n",
    "    ).to(device)\n",
    "\n",
    "def _batch_extract_embeddings(batch_seqs, batch_pos, model, tokenizer, context_len, add_spaces=False):\n",
    "    \"\"\"Generic function to extract CLS and mutation position embeddings.\"\"\"\n",
    "    tokens = _tokenize(batch_seqs, tokenizer, context_len, model.device, add_spaces=add_spaces)\n",
    "    with torch.no_grad():\n",
    "        outputs = model(input_ids=tokens['input_ids'], output_hidden_states=True)\n",
    "        hiddens = outputs.hidden_states[-1]  # Last hidden state\n",
    "\n",
    "    cls_embs, mut_embs = [], []\n",
    "    for j, pos in enumerate(batch_pos):\n",
    "        cls_embs.append(hiddens[j, 0, :].cpu())  # [CLS] token embedding\n",
    "        mut_embs.append(hiddens[j, pos, :].cpu()) # Mutation position embedding\n",
    "    return cls_embs, mut_embs\n",
    "\n",
    "def compute_batch_omnigenome_outputs(sequences, mut_positions, context_length, model, tokenizer, batch_size):\n",
    "    cls_embs, mut_embs = [], []\n",
    "    for i in tqdm(range(0, len(sequences), batch_size), desc=\"OmniGenome\"):\n",
    "        batch_seqs = sequences[i:i+batch_size]\n",
    "        batch_pos = mut_positions[i:i+batch_size]\n",
    "        c, m = _batch_extract_embeddings(batch_seqs, batch_pos, model, tokenizer, context_length, add_spaces=True)\n",
    "        cls_embs.extend(c)\n",
    "        mut_embs.extend(m)\n",
    "    return cls_embs, mut_embs\n",
    "\n",
    "def compute_batch_dnabert_outputs(sequences, mut_positions, context_length, model, tokenizer, batch_size):\n",
    "    cls_embs, mut_embs = [], []\n",
    "    for i in tqdm(range(0, len(sequences), batch_size), desc=\"DNABERT\"):\n",
    "        batch_seqs = sequences[i:i+batch_size]\n",
    "        batch_pos = mut_positions[i:i+batch_size]\n",
    "        c, m = _batch_extract_embeddings(batch_seqs, batch_pos, model, tokenizer, context_length, add_spaces=False)\n",
    "        cls_embs.extend(c)\n",
    "        mut_embs.extend(m)\n",
    "    return cls_embs, mut_embs\n",
    "\n",
    "def compute_batch_hyena_outputs(sequences, mut_positions, context_length, model, tokenizer, batch_size):\n",
    "    cls_embs, mut_embs = [], []\n",
    "    for i in tqdm(range(0, len(sequences), batch_size), desc=\"HyenaDNA\"):\n",
    "        batch_seqs = sequences[i:i+batch_size]\n",
    "        batch_pos = mut_positions[i:i+batch_size]\n",
    "        c, m = _batch_extract_embeddings(batch_seqs, batch_pos, model, tokenizer, context_length, add_spaces=False)\n",
    "        cls_embs.extend(c)\n",
    "        mut_embs.extend(m)\n",
    "    return cls_embs, mut_embs\n",
    "\n",
    "def compute_batch_nucleotide_transformer_outputs(sequences, mut_positions, context_length, model, tokenizer, batch_size):\n",
    "    k = 6  # 6-mer tokenizer\n",
    "    cls_embs, mut_embs = [], []\n",
    "    for i in tqdm(range(0, len(sequences), batch_size), desc=\"Nucleotide Transformer\"):\n",
    "        batch_seqs = sequences[i:i+batch_size]\n",
    "        batch_pos = mut_positions[i:i+batch_size]\n",
    "        tok_pos = [p // k for p in batch_pos] # Map base position to token position\n",
    "        c, m = _batch_extract_embeddings(batch_seqs, tok_pos, model, tokenizer, context_length // k, add_spaces=False)\n",
    "        cls_embs.extend(c)\n",
    "        mut_embs.extend(m)\n",
    "    return cls_embs, mut_embs\n",
    "\n",
    "def compute_batch_splice_outputs(sequences, mut_positions, context_length, model, tokenizer, batch_size):\n",
    "    return compute_batch_dnabert_outputs(sequences, mut_positions, context_length, model, tokenizer, batch_size) # Uses same logic\n",
    "\n",
    "def compute_batch_multimolecule_outputs(sequences, mut_positions, context_length, model, tokenizer, batch_size):\n",
    "    return compute_batch_dnabert_outputs(sequences, mut_positions, context_length, model, tokenizer, batch_size) # Uses same logic\n",
    "\n",
    "print(\"Model-specific functions defined.\")"
   ],
   "outputs": [
    {
     "name": "stdout",
     "output_type": "stream",
     "text": [
      "Model-specific functions defined.\n"
     ]
    }
   ],
   "execution_count": 4
  },
  {
   "cell_type": "markdown",
   "metadata": {},
   "source": [
    "## 6. Main Analysis Pipeline\n",
    "\n",
    "This is the main function that orchestrates the entire variant effect prediction process. It loads data, generates sequences, computes embeddings, and calculates the final scores."
   ]
  },
  {
   "cell_type": "code",
   "metadata": {
    "ExecuteTime": {
     "end_time": "2025-07-31T15:03:16.556149Z",
     "start_time": "2025-07-31T15:03:16.544499Z"
    }
   },
   "source": [
    "def run_vep_analysis(model_name, bed_file, fasta_file, context_size, batch_size, device):\n",
    "    \"\"\"Main pipeline for running the Variant Effect Prediction analysis.\"\"\"\n",
    "    \n",
    "    # 1. Setup Device and Check Files\n",
    "    print(\"--- Step 1: Initializing ---\")\n",
    "    if not os.path.exists(fasta_file):\n",
    "        print(f\"Reference genome not found. Attempting to download...\")\n",
    "        fasta_file = download_ncbi_reference_genome()\n",
    "    if not os.path.exists(bed_file):\n",
    "        raise FileNotFoundError(f\"BED file not found at: {bed_file}\")\n",
    "    \n",
    "    # 2. Load Genomic Annotation\n",
    "    print(\"--- Step 2: Loading Annotations ---\")\n",
    "    genome_annotation = Annotation(bed_file, fasta_file, context_size)\n",
    "    df = genome_annotation.annotation\n",
    "    # Optional: uncomment to run on a small sample for quick testing\n",
    "    # df = df.sample(n=100, random_state=42).reset_index(drop=True)\n",
    "    print(f\"Processing {len(df)} variants.\")\n",
    "\n",
    "    # 3. Load Model and Tokenizer\n",
    "    print(f\"--- Step 3: Loading Model: {model_name} ---\")\n",
    "    model_loader = AutoModelForMaskedLM if 'dnabert' in model_name.lower() or 'nucleotide-transformer' in model_name.lower() else AutoModel\n",
    "    tokenizer = AutoTokenizer.from_pretrained(model_name, trust_remote_code=True)\n",
    "    model = model_loader.from_pretrained(model_name, trust_remote_code=True)\n",
    "    if hasattr(model, 'base_model'): # For MaskedLM models\n",
    "        model = model.base_model\n",
    "    model.to(device).eval().half() # Use half precision\n",
    "    print(f\"Model loaded on {device} with {sum(p.numel() for p in model.parameters()):} parameters.\")\n",
    "\n",
    "    # 4. Select the correct embedding function\n",
    "    model_name_lower = model_name.lower()\n",
    "    if 'omnigenome' in model_name_lower: compute_func = compute_batch_omnigenome_outputs\n",
    "    elif 'dnabert' in model_name_lower: compute_func = compute_batch_dnabert_outputs\n",
    "    elif 'hyenadna' in model_name_lower: compute_func = compute_batch_hyena_outputs\n",
    "    elif 'nucleotide-transformer' in model_name_lower: compute_func = compute_batch_nucleotide_transformer_outputs\n",
    "    elif 'splice' in model_name_lower: compute_func = compute_batch_splice_outputs\n",
    "    elif 'multimolecule' in model_name_lower: compute_func = compute_batch_multimolecule_outputs\n",
    "    else: raise ValueError(f\"No compute function found for model: {model_name}\")\n",
    "\n",
    "    # 5. Generate Reference and Alternative Sequences\n",
    "    print(\"--- Step 4: Generating Sequences ---\")\n",
    "    seq_ref_list, seq_alt_list, mut_pos_list, valid_indices = [], [], [], []\n",
    "    for idx, item in tqdm(df.iterrows(), total=len(df), desc=\"Generating Sequences\"):\n",
    "        seq_ref = genome_annotation.get_dna_segment(idx)\n",
    "        if not seq_ref:\n",
    "            continue\n",
    "        mut_pos = int(item['mutation_position'])\n",
    "        seq_alt = apply_variant(seq_ref, item['ref'], item['alt'], mut_pos)\n",
    "        \n",
    "        seq_ref_list.append(seq_ref)\n",
    "        seq_alt_list.append(seq_alt)\n",
    "        mut_pos_list.append(mut_pos)\n",
    "        valid_indices.append(idx)\n",
    "\n",
    "    # 6. Compute Embeddings\n",
    "    print(\"--- Step 5: Computing Embeddings ---\")\n",
    "    context_length = context_size * 2\n",
    "    r_cls, r_mut = compute_func(seq_ref_list, mut_pos_list, context_length, model, tokenizer, batch_size)\n",
    "    a_cls, a_mut = compute_func(seq_alt_list, mut_pos_list, context_length, model, tokenizer, batch_size)\n",
    "\n",
    "    # 7. Calculate Distances and Finalize Results\n",
    "    print(\"--- Step 6: Calculating Scores ---\")\n",
    "    results = []\n",
    "    def norm(x): return x / (torch.linalg.norm(x) + 1e-8)\n",
    "\n",
    "    for i, original_idx in enumerate(valid_indices):\n",
    "        cls_dist = spatial.distance.cosine(norm(a_cls[i]), norm(r_cls[i]))\n",
    "        mut_dist = spatial.distance.cosine(norm(a_mut[i]), norm(r_mut[i]))\n",
    "        row = df.loc[original_idx].to_dict()\n",
    "        row.update({'cls_dist': cls_dist, 'mut_dist': mut_dist})\n",
    "        results.append(row)\n",
    "\n",
    "    results_df = pd.DataFrame(results)\n",
    "    if 'label' in results_df.columns:\n",
    "        overall_auc = roc_auc_score(results_df['label'], results_df['mut_dist'])\n",
    "        print(f\"Overall AUC based on 'mut_dist': {overall_auc:.4f}\")\n",
    "        results_df['overall_auc'] = overall_auc\n",
    "\n",
    "    return results_df\n",
    "\n",
    "print(\"Main analysis pipeline defined.\")"
   ],
   "outputs": [
    {
     "name": "stdout",
     "output_type": "stream",
     "text": [
      "Main analysis pipeline defined.\n"
     ]
    }
   ],
   "execution_count": 5
  },
  {
   "cell_type": "markdown",
   "metadata": {},
   "source": [
    "## 7. Execute the Analysis\n",
    "\n",
    "This is the final step where we run the entire pipeline with the configured parameters. The results will be stored in a pandas DataFrame and saved to a CSV file."
   ]
  },
  {
   "cell_type": "code",
   "metadata": {
    "ExecuteTime": {
     "end_time": "2025-07-31T15:46:20.525960Z",
     "start_time": "2025-07-31T15:03:24.539188Z"
    }
   },
   "source": [
    "# Setup device\n",
    "compute_device = torch.device(autocuda.auto_cuda() if DEVICE == \"auto\" and torch.cuda.is_available() else DEVICE)\n",
    "\n",
    "print(f\"Starting analysis on device: {compute_device}\")\n",
    "print(\"=\" * 50)\n",
    "\n",
    "# Run the analysis\n",
    "results_df = run_vep_analysis(\n",
    "    model_name=MODEL_NAME, \n",
    "    bed_file=BED_FILE, \n",
    "    fasta_file=FASTA_FILE, \n",
    "    context_size=CONTEXT_SIZE, \n",
    "    batch_size=BATCH_SIZE, \n",
    "    device=compute_device\n",
    ")\n",
    "\n",
    "print(\"=\" * 50)\n",
    "print(\"Analysis completed!\")\n",
    "\n",
    "# Save results to CSV\n",
    "output_filename = f\"{MODEL_NAME.split('/')[-1]}_{OUTPUT_FILE}\"\n",
    "results_df.to_csv(output_filename, index=False)\n",
    "print(f\"Results saved to: {output_filename}\")"
   ],
   "outputs": [
    {
     "name": "stdout",
     "output_type": "stream",
     "text": [
      "Starting analysis on device: cuda:0\n",
      "==================================================\n",
      "--- Step 1: Initializing ---\n",
      "--- Step 2: Loading Annotations ---\n",
      "Loading reference genome from data/genomes/GRCh38.primary_assembly.genome.fa...\n",
      "Loaded 194 chromosomes.\n",
      "Processing 295495 variants.\n",
      "--- Step 3: Loading Model: yangheng/OmniGenome-52M ---\n"
     ]
    },
    {
     "name": "stderr",
     "output_type": "stream",
     "text": [
      "Some weights of OmniGenomeModel were not initialized from the model checkpoint at yangheng/OmniGenome-52M and are newly initialized: ['pooler.dense.bias', 'pooler.dense.weight']\n",
      "You should probably TRAIN this model on a down-stream task to be able to use it for predictions and inference.\n"
     ]
    },
    {
     "name": "stdout",
     "output_type": "stream",
     "text": [
      "Model loaded on cuda:0 with 52453345 parameters.\n",
      "--- Step 4: Generating Sequences ---\n"
     ]
    },
    {
     "name": "stderr",
     "output_type": "stream",
     "text": [
      "Generating Sequences: 100%|██████████| 295495/295495 [00:34<00:00, 8571.48it/s]\n"
     ]
    },
    {
     "name": "stdout",
     "output_type": "stream",
     "text": [
      "--- Step 5: Computing Embeddings ---\n"
     ]
    },
    {
     "name": "stderr",
     "output_type": "stream",
     "text": [
      "OmniGenome: 100%|██████████| 18469/18469 [20:27<00:00, 15.05it/s]\n",
      "OmniGenome: 100%|██████████| 18469/18469 [20:13<00:00, 15.22it/s]\n"
     ]
    },
    {
     "name": "stdout",
     "output_type": "stream",
     "text": [
      "--- Step 6: Calculating Scores ---\n",
      "Overall AUC based on 'mut_dist': 0.5366\n",
      "==================================================\n",
      "Analysis completed!\n",
      "Results saved to: OmniGenome-52M_vep_predictions.csv\n"
     ]
    }
   ],
   "execution_count": 6
  },
  {
   "cell_type": "markdown",
   "metadata": {},
   "source": [
    "## 8. Results Overview\n",
    "\n",
    "Let's take a look at the results. We'll display the first few rows of the output DataFrame and show some basic statistics about the calculated distances."
   ]
  },
  {
   "cell_type": "code",
   "metadata": {
    "ExecuteTime": {
     "end_time": "2025-07-31T16:11:54.265878Z",
     "start_time": "2025-07-31T16:11:54.178222Z"
    }
   },
   "source": [
    "print(\"Results Summary:\")\n",
    "print(results_df[['chromosome', 'start', 'end', 'ref', 'alt', 'cls_dist', 'mut_dist']].describe())\n",
    "\n",
    "print(\"\\nFirst 5 results:\")\n",
    "display(results_df[['chromosome', 'start', 'end', 'ref', 'alt', 'cls_dist', 'mut_dist']].head())"
   ],
   "outputs": [
    {
     "name": "stdout",
     "output_type": "stream",
     "text": [
      "Results Summary:\n",
      "              start           end       cls_dist       mut_dist\n",
      "count  2.954950e+05  2.954950e+05  295495.000000  295495.000000\n",
      "mean   7.576644e+07  7.576695e+07       0.000874       0.360155\n",
      "std    5.818433e+07  5.818433e+07       0.004454       0.226618\n",
      "min    4.793900e+04  4.845100e+04       0.000000       0.000000\n",
      "25%    3.162509e+07  3.162560e+07       0.000000       0.189546\n",
      "50%    6.214818e+07  6.214869e+07       0.000488       0.293773\n",
      "75%    1.107011e+08  1.107016e+08       0.000733       0.460186\n",
      "max    2.474487e+08  2.474492e+08       0.510259       1.528320\n",
      "\n",
      "First 5 results:\n"
     ]
    },
    {
     "data": {
      "text/plain": [
       "  chromosome   start     end ref alt  cls_dist  mut_dist\n",
       "0       chr1  925768  926280   G   A  0.000977  0.151441\n",
       "1       chr1  925769  926281   G   A  0.000000  0.309570\n",
       "2       chr1  925770  926282   C   T  0.000244  0.161054\n",
       "3       chr1  925772  926284   C   T  0.000000  0.283691\n",
       "4       chr1  929879  930391   T   C  0.000000  0.175781"
      ],
      "text/html": [
       "<div>\n",
       "<style scoped>\n",
       "    .dataframe tbody tr th:only-of-type {\n",
       "        vertical-align: middle;\n",
       "    }\n",
       "\n",
       "    .dataframe tbody tr th {\n",
       "        vertical-align: top;\n",
       "    }\n",
       "\n",
       "    .dataframe thead th {\n",
       "        text-align: right;\n",
       "    }\n",
       "</style>\n",
       "<table border=\"1\" class=\"dataframe\">\n",
       "  <thead>\n",
       "    <tr style=\"text-align: right;\">\n",
       "      <th></th>\n",
       "      <th>chromosome</th>\n",
       "      <th>start</th>\n",
       "      <th>end</th>\n",
       "      <th>ref</th>\n",
       "      <th>alt</th>\n",
       "      <th>cls_dist</th>\n",
       "      <th>mut_dist</th>\n",
       "    </tr>\n",
       "  </thead>\n",
       "  <tbody>\n",
       "    <tr>\n",
       "      <th>0</th>\n",
       "      <td>chr1</td>\n",
       "      <td>925768</td>\n",
       "      <td>926280</td>\n",
       "      <td>G</td>\n",
       "      <td>A</td>\n",
       "      <td>0.000977</td>\n",
       "      <td>0.151441</td>\n",
       "    </tr>\n",
       "    <tr>\n",
       "      <th>1</th>\n",
       "      <td>chr1</td>\n",
       "      <td>925769</td>\n",
       "      <td>926281</td>\n",
       "      <td>G</td>\n",
       "      <td>A</td>\n",
       "      <td>0.000000</td>\n",
       "      <td>0.309570</td>\n",
       "    </tr>\n",
       "    <tr>\n",
       "      <th>2</th>\n",
       "      <td>chr1</td>\n",
       "      <td>925770</td>\n",
       "      <td>926282</td>\n",
       "      <td>C</td>\n",
       "      <td>T</td>\n",
       "      <td>0.000244</td>\n",
       "      <td>0.161054</td>\n",
       "    </tr>\n",
       "    <tr>\n",
       "      <th>3</th>\n",
       "      <td>chr1</td>\n",
       "      <td>925772</td>\n",
       "      <td>926284</td>\n",
       "      <td>C</td>\n",
       "      <td>T</td>\n",
       "      <td>0.000000</td>\n",
       "      <td>0.283691</td>\n",
       "    </tr>\n",
       "    <tr>\n",
       "      <th>4</th>\n",
       "      <td>chr1</td>\n",
       "      <td>929879</td>\n",
       "      <td>930391</td>\n",
       "      <td>T</td>\n",
       "      <td>C</td>\n",
       "      <td>0.000000</td>\n",
       "      <td>0.175781</td>\n",
       "    </tr>\n",
       "  </tbody>\n",
       "</table>\n",
       "</div>"
      ]
     },
     "metadata": {},
     "output_type": "display_data"
    }
   ],
   "execution_count": 7
  },
  {
   "cell_type": "markdown",
   "metadata": {},
   "source": [
    "## 9. Visualization\n",
    "\n",
    "Visualizing the distribution of the `cls_dist` and `mut_dist` scores can provide insights into how the model perceives the impact of variants."
   ]
  },
  {
   "cell_type": "code",
   "metadata": {
    "ExecuteTime": {
     "end_time": "2025-07-31T16:12:08.642441Z",
     "start_time": "2025-07-31T16:12:05.488141Z"
    }
   },
   "source": [
    "try:\n",
    "    import matplotlib.pyplot as plt\n",
    "    import seaborn as sns\n",
    "    \n",
    "    plt.style.use('seaborn-v0_8-whitegrid')\n",
    "    fig, axes = plt.subplots(1, 2, figsize=(14, 5))\n",
    "    \n",
    "    sns.histplot(results_df['cls_dist'].dropna(), bins=50, kde=True, ax=axes[0], color='skyblue')\n",
    "    axes[0].set_title('Distribution of CLS Distances')\n",
    "    axes[0].set_xlabel('Cosine Distance (CLS Embedding)')\n",
    "    axes[0].set_ylabel('Frequency')\n",
    "    \n",
    "    sns.histplot(results_df['mut_dist'].dropna(), bins=50, kde=True, ax=axes[1], color='salmon')\n",
    "    axes[1].set_title('Distribution of Mutation Position Distances')\n",
    "    axes[1].set_xlabel('Cosine Distance (Mutation Embedding)')\n",
    "    axes[1].set_ylabel('Frequency')\n",
    "    \n",
    "    plt.tight_layout()\n",
    "    plt.show()\n",
    "\n",
    "except ImportError:\n",
    "    print(\"Matplotlib or Seaborn not found. Please install them to see visualizations: !pip install matplotlib seaborn\")"
   ],
   "outputs": [
    {
     "data": {
      "text/plain": [
       "<Figure size 1400x500 with 2 Axes>"
      ],
      "image/png": "[encoded data removed]"
     },
     "metadata": {},
     "output_type": "display_data"
    }
   ],
   "execution_count": 8
  }
 ],
 "metadata": {
  "kernelspec": {
   "display_name": "Python 3",
   "language": "python",
   "name": "python3"
  },
  "language_info": {
   "codemirror_mode": {
    "name": "ipython",
    "version": 3
   },
   "file_extension": ".py",
   "mimetype": "text/x-python",
   "name": "python",
   "nbconvert_exporter": "python",
   "pygments_lexer": "ipython3",
   "version": "3.10"
  }
 },
 "nbformat": 4,
 "nbformat_minor": 4
}
